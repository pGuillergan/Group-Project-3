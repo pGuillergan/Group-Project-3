{
 "cells": [
  {
   "cell_type": "code",
   "execution_count": null,
   "metadata": {},
   "outputs": [],
   "source": [
    "import pandas as pd\n",
    "import os\n",
    "from sqlalchemy import create_engine\n",
    "from sqlalchemy.ext.automap import automap_base\n",
    "from sqlalchemy.orm import Session\n",
    "\n"
   ]
  },
  {
   "cell_type": "code",
   "execution_count": null,
   "metadata": {},
   "outputs": [],
   "source": [
    "#read excel\n",
    "example_df = pd.read_excel('example_datatable_final.xlsx')"
   ]
  },
  {
   "cell_type": "code",
   "execution_count": null,
   "metadata": {},
   "outputs": [],
   "source": [
    "example_df"
   ]
  },
  {
   "cell_type": "code",
   "execution_count": 4,
   "metadata": {},
   "outputs": [],
   "source": [
    "#don't change any of this, just run it\n",
    "\n",
    "import re\n",
    "import sqlite3\n",
    "\n",
    "def get_create_table_string(tablename, connection):\n",
    "    sql = \"\"\"\n",
    "    select * from sqlite_master where name = \"{}\" and type = \"table\"\n",
    "    \"\"\".format(tablename) \n",
    "    result = connection.execute(sql)\n",
    "\n",
    "    create_table_string = result.fetchmany()[0][4]\n",
    "    return create_table_string\n",
    "\n",
    "def add_pk_to_create_table_string(create_table_string, colname):\n",
    "    regex = \"(\\n.+{}[^,]+)(,)\".format(colname)\n",
    "    return re.sub(regex, \"\\\\1 PRIMARY KEY,\",  create_table_string, count=1)\n",
    "\n",
    "def add_pk_to_sqlite_table(tablename, index_column, connection):\n",
    "    cts = get_create_table_string(tablename, connection)\n",
    "    cts = add_pk_to_create_table_string(cts, index_column)\n",
    "    template = \"\"\"\n",
    "    BEGIN TRANSACTION;\n",
    "        ALTER TABLE {tablename} RENAME TO {tablename}_old_;\n",
    "\n",
    "        {cts};\n",
    "\n",
    "        INSERT INTO {tablename} SELECT * FROM {tablename}_old_;\n",
    "\n",
    "        DROP TABLE {tablename}_old_;\n",
    "\n",
    "    COMMIT TRANSACTION;\n",
    "    \"\"\"\n",
    "\n",
    "    create_and_drop_sql = template.format(tablename = tablename, cts = cts)\n",
    "    connection.executescript(create_and_drop_sql)"
   ]
  },
  {
   "cell_type": "code",
   "execution_count": 6,
   "metadata": {},
   "outputs": [
    {
     "name": "stdout",
     "output_type": "stream",
     "text": [
      "CREATE TABLE \"api_data_table\" (\n",
      "\"index\" INTEGER PRIMARY KEY,\n",
      "  \"caseid_new\" INTEGER,\n",
      "  \"qflag\" TEXT,\n",
      "  \"married\" TEXT,\n",
      "  \"children_in_hh\" INTEGER,\n",
      "  \"age\" INTEGER,\n",
      "  \"age_bin\" TEXT,\n",
      "  \"age_difference_bin\" TEXT,\n",
      "  \"age_difference\" INTEGER,\n",
      "  \"same_sex_couple\" TEXT,\n",
      "  \"met_online\" INTEGER,\n",
      "  \"how_long_relationship\" INTEGER,\n",
      "  \"relationship_quality\" TEXT,\n",
      "  \"how_met\" TEXT\n",
      ")\n"
     ]
    }
   ],
   "source": [
    "# # df = pd.DataFrame({\"a\": [1,2,3], \"b\": [2,3,4]})\n",
    "# con = sqlite3.connect(\"deleteme.db\")\n",
    "# df.to_sql(\"df\", con, if_exists=\"replace\")\n",
    "\n",
    "# add_pk_to_sqlite_table(\"df\", \"index\", con)\n",
    "# r = con.execute(\"select sql from sqlite_master where name = 'df' and type = 'table'\")\n",
    "# print(r.fetchone()[0])\n",
    "\n",
    "con = sqlite3.connect(\"Dog_Human_Microbiome.db\")\n",
    "\n",
    "example_df.to_sql(\"api_data_table\", con, if_exists=\"replace\")\n",
    "\n",
    "add_pk_to_sqlite_table(\"api_data_table\", \"index\", con)\n",
    "r = con.execute(\"select sql from sqlite_master where name = 'api_data_table' and type = 'table'\")\n",
    "print(r.fetchone()[0])\n"
   ]
  },
  {
   "cell_type": "code",
   "execution_count": null,
   "metadata": {},
   "outputs": [],
   "source": []
  }
 ],
 "metadata": {
  "kernelspec": {
   "display_name": "Python 3",
   "language": "python",
   "name": "python3"
  },
  "language_info": {
   "codemirror_mode": {
    "name": "ipython",
    "version": 3
   },
   "file_extension": ".py",
   "mimetype": "text/x-python",
   "name": "python",
   "nbconvert_exporter": "python",
   "pygments_lexer": "ipython3",
   "version": "3.7.3"
  }
 },
 "nbformat": 4,
 "nbformat_minor": 2
}
