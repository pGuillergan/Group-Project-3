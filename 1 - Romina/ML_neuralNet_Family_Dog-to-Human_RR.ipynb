{
 "cells": [
  {
   "cell_type": "code",
   "execution_count": 11,
   "metadata": {},
   "outputs": [],
   "source": [
    "%matplotlib inline\n",
    "import pandas as pd\n",
    "import numpy as np\n",
    "import os\n",
    "import matplotlib.pyplot as plt\n",
    "\n",
    "from sklearn import tree\n",
    "from sklearn.ensemble import RandomForestClassifier\n",
    "from sklearn.datasets import make_classification\n",
    "from sklearn.model_selection import train_test_split\n",
    "from sklearn.metrics import confusion_matrix"
   ]
  },
  {
   "cell_type": "code",
   "execution_count": 26,
   "metadata": {
    "scrolled": true
   },
   "outputs": [
    {
     "name": "stderr",
     "output_type": "stream",
     "text": [
      "C:\\Users\\Romina\\Anaconda3\\lib\\site-packages\\IPython\\core\\interactiveshell.py:3049: DtypeWarning: Columns (2,3,24,50,51) have mixed types. Specify dtype option on import or set low_memory=False.\n",
      "  interactivity=interactivity, compiler=compiler, result=result)\n"
     ]
    },
    {
     "data": {
      "text/html": [
       "<div>\n",
       "<style scoped>\n",
       "    .dataframe tbody tr th:only-of-type {\n",
       "        vertical-align: middle;\n",
       "    }\n",
       "\n",
       "    .dataframe tbody tr th {\n",
       "        vertical-align: top;\n",
       "    }\n",
       "\n",
       "    .dataframe thead th {\n",
       "        text-align: right;\n",
       "    }\n",
       "</style>\n",
       "<table border=\"1\" class=\"dataframe\">\n",
       "  <thead>\n",
       "    <tr style=\"text-align: right;\">\n",
       "      <th></th>\n",
       "      <th>Unnamed: 0</th>\n",
       "      <th>sample_name</th>\n",
       "      <th>age</th>\n",
       "      <th>age_in_years</th>\n",
       "      <th>age_units</th>\n",
       "      <th>agegroup</th>\n",
       "      <th>anonymized_name</th>\n",
       "      <th>body_habitat</th>\n",
       "      <th>body_product</th>\n",
       "      <th>body_site</th>\n",
       "      <th>...</th>\n",
       "      <th>k__Bacteria; p__Actinobacteria; c__Actinobacteria; o__Actinomycetales; f__Nocardioidaceae; g__; s__.16</th>\n",
       "      <th>k__Bacteria; p__Firmicutes; c__Erysipelotrichi; o__Erysipelotrichales; f__Erysipelotrichaceae; g__; s__.7</th>\n",
       "      <th>k__Bacteria; p__Bacteroidetes; c__Bacteroidia; o__Bacteroidales; f__[Odoribacteraceae]; g__Odoribacter; s__.1</th>\n",
       "      <th>k__Bacteria; p__Bacteroidetes; c__Bacteroidia; o__Bacteroidales; f__Prevotellaceae; g__Prevotella; s__intermedia</th>\n",
       "      <th>k__Bacteria; p__Firmicutes; c__Bacilli; o__Lactobacillales; f__Streptococcaceae; g__Streptococcus; s__.41</th>\n",
       "      <th>k__Bacteria; p__Cyanobacteria; c__Chloroplast; o__Streptophyta; f__; g__; s__.6</th>\n",
       "      <th>k__Bacteria; p__Bacteroidetes; c__Bacteroidia; o__Bacteroidales; f__Bacteroidaceae; g__Bacteroides; s__.54</th>\n",
       "      <th>k__Bacteria; p__Bacteroidetes; c__Bacteroidia; o__Bacteroidales; f__Prevotellaceae; g__Prevotella; s__.23</th>\n",
       "      <th>k__Bacteria; p__Bacteroidetes; c__Bacteroidia; o__Bacteroidales; f__Bacteroidaceae; g__Bacteroides; s__.55</th>\n",
       "      <th>k__Bacteria; p__Actinobacteria; c__Actinobacteria; o__Actinomycetales; f__Propionibacteriaceae; g__Propionibacterium; s__granulosum</th>\n",
       "    </tr>\n",
       "  </thead>\n",
       "  <tbody>\n",
       "    <tr>\n",
       "      <th>0</th>\n",
       "      <td>0</td>\n",
       "      <td>797.02.HA.Forehead</td>\n",
       "      <td>1</td>\n",
       "      <td>1</td>\n",
       "      <td>years</td>\n",
       "      <td>Adolescent</td>\n",
       "      <td>FS_01</td>\n",
       "      <td>UBERON:skin</td>\n",
       "      <td>UBERON:sebum</td>\n",
       "      <td>UBERON:face</td>\n",
       "      <td>...</td>\n",
       "      <td>0</td>\n",
       "      <td>0</td>\n",
       "      <td>0</td>\n",
       "      <td>0</td>\n",
       "      <td>0</td>\n",
       "      <td>0</td>\n",
       "      <td>0</td>\n",
       "      <td>0</td>\n",
       "      <td>0</td>\n",
       "      <td>0</td>\n",
       "    </tr>\n",
       "  </tbody>\n",
       "</table>\n",
       "<p>1 rows × 1088 columns</p>\n",
       "</div>"
      ],
      "text/plain": [
       "   Unnamed: 0         sample_name age age_in_years age_units    agegroup  \\\n",
       "0           0  797.02.HA.Forehead   1            1     years  Adolescent   \n",
       "\n",
       "  anonymized_name body_habitat  body_product    body_site  \\\n",
       "0           FS_01  UBERON:skin  UBERON:sebum  UBERON:face   \n",
       "\n",
       "                                                                  ...                                                                  \\\n",
       "0                                                                 ...                                                                   \n",
       "\n",
       "  k__Bacteria; p__Actinobacteria; c__Actinobacteria; o__Actinomycetales; f__Nocardioidaceae; g__; s__.16  \\\n",
       "0                                                  0                                                       \n",
       "\n",
       "  k__Bacteria; p__Firmicutes; c__Erysipelotrichi; o__Erysipelotrichales; f__Erysipelotrichaceae; g__; s__.7  \\\n",
       "0                                                  0                                                          \n",
       "\n",
       "  k__Bacteria; p__Bacteroidetes; c__Bacteroidia; o__Bacteroidales; f__[Odoribacteraceae]; g__Odoribacter; s__.1  \\\n",
       "0                                                  0                                                              \n",
       "\n",
       "   k__Bacteria; p__Bacteroidetes; c__Bacteroidia; o__Bacteroidales; f__Prevotellaceae; g__Prevotella; s__intermedia  \\\n",
       "0                                                  0                                                                  \n",
       "\n",
       "  k__Bacteria; p__Firmicutes; c__Bacilli; o__Lactobacillales; f__Streptococcaceae; g__Streptococcus; s__.41  \\\n",
       "0                                                  0                                                          \n",
       "\n",
       "   k__Bacteria; p__Cyanobacteria; c__Chloroplast; o__Streptophyta; f__; g__; s__.6  \\\n",
       "0                                                  0                                 \n",
       "\n",
       "  k__Bacteria; p__Bacteroidetes; c__Bacteroidia; o__Bacteroidales; f__Bacteroidaceae; g__Bacteroides; s__.54  \\\n",
       "0                                                  0                                                           \n",
       "\n",
       "  k__Bacteria; p__Bacteroidetes; c__Bacteroidia; o__Bacteroidales; f__Prevotellaceae; g__Prevotella; s__.23  \\\n",
       "0                                                  0                                                          \n",
       "\n",
       "  k__Bacteria; p__Bacteroidetes; c__Bacteroidia; o__Bacteroidales; f__Bacteroidaceae; g__Bacteroides; s__.55  \\\n",
       "0                                                  0                                                           \n",
       "\n",
       "  k__Bacteria; p__Actinobacteria; c__Actinobacteria; o__Actinomycetales; f__Propionibacteriaceae; g__Propionibacterium; s__granulosum  \n",
       "0                                                  0                                                                                   \n",
       "\n",
       "[1 rows x 1088 columns]"
      ]
     },
     "execution_count": 26,
     "metadata": {},
     "output_type": "execute_result"
    }
   ],
   "source": [
    "mergedf = pd.read_csv('metadata_otu_merged_famID-to-str.csv')\n",
    "# mergedf = pd.read_csv('metadata_otu_merged_famID-to-str_onlyFamwPet.csv')\n",
    "mergedf.head(1)"
   ]
  },
  {
   "cell_type": "code",
   "execution_count": 27,
   "metadata": {},
   "outputs": [
    {
     "name": "stdout",
     "output_type": "stream",
     "text": [
      "(1050, 1088)\n",
      "(994, 1087)\n"
     ]
    }
   ],
   "source": [
    "print(mergedf.shape)\n",
    "mergedf = mergedf.drop(\"Unnamed: 0\", axis=1)\n",
    "mergedf = mergedf[mergedf.family_relationship !=\"none\"]\n",
    "print(mergedf.shape)"
   ]
  },
  {
   "cell_type": "code",
   "execution_count": 28,
   "metadata": {},
   "outputs": [
    {
     "name": "stdout",
     "output_type": "stream",
     "text": [
      "Shape of X_train: (781, 1032)\n",
      "Shape of y_train: (781, 1)\n",
      "Shape of X_test: (213, 1032)\n",
      "Shape of y_test: (213, 1)\n"
     ]
    }
   ],
   "source": [
    "human_data_train = mergedf[mergedf.host_common_name ==\"human\"]\n",
    "dog_data_test = mergedf[mergedf.host_common_name ==\"dog\"]\n",
    "\n",
    "X_train = human_data_train.iloc[:, 53:1085]\n",
    "X_test = dog_data_test.iloc[:, 53:1085]\n",
    "y_train = human_data_train[\"family\"].values.reshape(-1, 1)\n",
    "y_test = dog_data_test[\"family\"].values.reshape(-1, 1)\n",
    "\n",
    "print(f'Shape of X_train: {X_train.shape}')\n",
    "print(f'Shape of y_train: {y_train.shape}')\n",
    "print(f'Shape of X_test: {X_test.shape}')\n",
    "print(f'Shape of y_test: {y_test.shape}')"
   ]
  },
  {
   "cell_type": "code",
   "execution_count": 29,
   "metadata": {},
   "outputs": [],
   "source": [
    "# X_train, X_test, y_train, y_test = train_test_split(X, y, random_state=42)\n",
    "\n",
    "# # X_train, X_test, y_train, y_test = train_test_split(X, y, random_state=1, stratify=y)\n",
    "# X_train.head()"
   ]
  },
  {
   "cell_type": "code",
   "execution_count": 30,
   "metadata": {},
   "outputs": [
    {
     "data": {
      "text/plain": [
       "(781, 1032)"
      ]
     },
     "execution_count": 30,
     "metadata": {},
     "output_type": "execute_result"
    }
   ],
   "source": [
    "from sklearn.preprocessing import StandardScaler\n",
    "X_scaler = StandardScaler().fit(X_train)\n",
    "\n",
    "X_train_scaled = X_scaler.transform(X_train)\n",
    "X_test_scaled = X_scaler.transform(X_test)\n",
    "X_train_scaled.shape"
   ]
  },
  {
   "cell_type": "code",
   "execution_count": 31,
   "metadata": {},
   "outputs": [
    {
     "data": {
      "text/plain": [
       "(781, 79)"
      ]
     },
     "execution_count": 31,
     "metadata": {},
     "output_type": "execute_result"
    }
   ],
   "source": [
    "from keras.utils import to_categorical\n",
    "\n",
    "# One-hot encoding\n",
    "y_train_categorical = to_categorical(y_train)\n",
    "y_test_categorical = to_categorical(y_test)\n",
    "y_train_categorical.shape"
   ]
  },
  {
   "cell_type": "code",
   "execution_count": 32,
   "metadata": {},
   "outputs": [],
   "source": [
    "from keras.models import Sequential\n",
    "\n",
    "model = Sequential()"
   ]
  },
  {
   "cell_type": "code",
   "execution_count": 33,
   "metadata": {},
   "outputs": [
    {
     "name": "stdout",
     "output_type": "stream",
     "text": [
      "WARNING:tensorflow:From C:\\Users\\Romina\\Anaconda3\\lib\\site-packages\\keras\\backend\\tensorflow_backend.py:517: The name tf.placeholder is deprecated. Please use tf.compat.v1.placeholder instead.\n",
      "\n",
      "WARNING:tensorflow:From C:\\Users\\Romina\\Anaconda3\\lib\\site-packages\\keras\\backend\\tensorflow_backend.py:4138: The name tf.random_uniform is deprecated. Please use tf.random.uniform instead.\n",
      "\n"
     ]
    }
   ],
   "source": [
    "from keras.layers import Dense\n",
    "number_inputs = 3\n",
    "number_hidden_nodes = 4\n",
    "model.add(Dense(units=number_hidden_nodes,\n",
    "                activation='relu', input_dim=number_inputs))"
   ]
  },
  {
   "cell_type": "code",
   "execution_count": null,
   "metadata": {},
   "outputs": [],
   "source": [
    "# from scaled data\n",
    "rf_scaled = RandomForestClassifier(n_estimators=200)\n",
    "rf_scaled = rf_scaled.fit(X_train_scaled, y_train.ravel())\n",
    "rf_scaled.score(X_test_scaled, y_test) #geni impurity coefficient"
   ]
  },
  {
   "cell_type": "code",
   "execution_count": null,
   "metadata": {},
   "outputs": [],
   "source": [
    "number_classes = 2\n",
    "model.add(Dense(units=number_classes, activation='softmax'))"
   ]
  },
  {
   "cell_type": "code",
   "execution_count": null,
   "metadata": {},
   "outputs": [],
   "source": [
    "# feature_names = X.columns\n",
    "# sorted(zip(rf.feature_importances_, feature_names), reverse=True)"
   ]
  },
  {
   "cell_type": "code",
   "execution_count": null,
   "metadata": {
    "scrolled": true
   },
   "outputs": [],
   "source": [
    "# import graphviz\n",
    "# dot_data = tree.export_graphviz(\n",
    "# clf, out_file=None,\n",
    "# feature_names = feature_names,\n",
    "# class_names= y,\n",
    "# filled=True,\n",
    "# rounded=True,\n",
    "# special_characters=True)"
   ]
  },
  {
   "cell_type": "markdown",
   "metadata": {},
   "source": [
    "# PLAYING WITH FILTERING"
   ]
  },
  {
   "cell_type": "code",
   "execution_count": null,
   "metadata": {},
   "outputs": [],
   "source": [
    "mergedf_filter = mergedf#[mergedf.role ==\"Partner\"]\n",
    "mergedf_filter = mergedf_filter[mergedf_filter.sample_type !=\"stool\"]\n",
    "\n",
    "X_f = mergedf_filter.iloc[:, 53:1085]\n",
    "y_f = mergedf_filter[\"familyID\"].values.reshape(-1, 1)\n",
    "print(X_f.shape, y_f.shape)"
   ]
  },
  {
   "cell_type": "code",
   "execution_count": null,
   "metadata": {},
   "outputs": [],
   "source": [
    "human_data_train = mergedf_filter[mergedf_filter.host_common_name ==\"human\"]\n",
    "dog_data_test = mergedf_filter[mergedf_filter.host_common_name ==\"dog\"]\n",
    "\n",
    "X_train = human_data_train.iloc[:, 53:1085]\n",
    "X_test = dog_data_test.iloc[:, 53:1085]\n",
    "y_train = human_data_train[\"familyID\"].values.reshape(-1, 1)\n",
    "y_test = dog_data_test[\"familyID\"].values.reshape(-1, 1)"
   ]
  },
  {
   "cell_type": "code",
   "execution_count": null,
   "metadata": {},
   "outputs": [],
   "source": [
    "rf_f = RandomForestClassifier(n_estimators=200)\n",
    "rf_f = rf_f.fit(X_train, y_train.ravel())\n",
    "rf_f.score(X_test, y_test) #geni impurity coefficient"
   ]
  },
  {
   "cell_type": "code",
   "execution_count": null,
   "metadata": {},
   "outputs": [],
   "source": [
    "#only looking at human families, predict which family each person belongs to\n",
    "human_data = mergedf_filter[mergedf_filter.family_relationship !=\"none\"]\n",
    "human_data = mergedf_filter[mergedf_filter.host_common_name ==\"human\"]\n",
    "human_data = mergedf_filter[mergedf_filter.role !=\"offspring\"]\n",
    "\n",
    "X = mergedf.iloc[:, 53:1085]\n",
    "y = mergedf[\"familyID\"].values.reshape(-1, 1)\n",
    "\n",
    "X_train, X_test, y_train, y_test = train_test_split(X, y, random_state=42)\n",
    "\n",
    "rf = RandomForestClassifier(n_estimators=200)\n",
    "rf = rf.fit(X_train, y_train.ravel())\n",
    "rf.score(X_test, y_test) #geni impurity coefficient"
   ]
  },
  {
   "cell_type": "code",
   "execution_count": null,
   "metadata": {},
   "outputs": [],
   "source": []
  }
 ],
 "metadata": {
  "kernelspec": {
   "display_name": "Python 3",
   "language": "python",
   "name": "python3"
  },
  "language_info": {
   "codemirror_mode": {
    "name": "ipython",
    "version": 3
   },
   "file_extension": ".py",
   "mimetype": "text/x-python",
   "name": "python",
   "nbconvert_exporter": "python",
   "pygments_lexer": "ipython3",
   "version": "3.7.3"
  }
 },
 "nbformat": 4,
 "nbformat_minor": 2
}
