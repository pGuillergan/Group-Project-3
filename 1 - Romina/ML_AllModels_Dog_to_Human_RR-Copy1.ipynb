{
 "cells": [
  {
   "cell_type": "code",
   "execution_count": 1,
   "metadata": {},
   "outputs": [],
   "source": [
    "import pandas as pd\n",
    "import numpy as np\n",
    "import os\n",
    "import matplotlib.pyplot as plt\n",
    "\n",
    "from sklearn import tree\n",
    "from sklearn.ensemble import RandomForestClassifier\n",
    "from sklearn.model_selection import validation_curve\n",
    "\n",
    "from sklearn.model_selection import train_test_split\n",
    "from sklearn.metrics import confusion_matrix\n",
    "\n",
    "from sklearn.naive_bayes import GaussianNB\n",
    "from sklearn.preprocessing import LabelEncoder\n",
    "from sklearn.metrics import accuracy_score"
   ]
  },
  {
   "cell_type": "code",
   "execution_count": 2,
   "metadata": {},
   "outputs": [
    {
     "data": {
      "text/plain": [
       "(1050, 1088)"
      ]
     },
     "execution_count": 2,
     "metadata": {},
     "output_type": "execute_result"
    }
   ],
   "source": [
    "mergedf = pd.read_csv('DB_CSV_merged_v1.csv', low_memory=False)\n",
    "\n",
    "mergedf = mergedf.drop(\"Unnamed: 0\", axis=1)\n",
    "mergedf.shape"
   ]
  },
  {
   "cell_type": "markdown",
   "metadata": {},
   "source": [
    "# Filtering Train and Test Datasets"
   ]
  },
  {
   "cell_type": "code",
   "execution_count": 3,
   "metadata": {},
   "outputs": [],
   "source": [
    "#FILTER 1\n",
    "# have_dog = \"only_non_dog_owners\"\n",
    "\n",
    "#FILTER 2\n",
    "# sample_type = \"skin\"\n",
    "# sample_type = \"all\"\n",
    "# #FILTER 3\n",
    "# # not_sample_type = \"stool\"\n",
    "\n",
    "# # #FILTER 4\n",
    "# human_role = \"Partner\"\n",
    "# human_role = \"all\"\n",
    "# #FILTER 5\n",
    "# not_human_role = \"Offspring\"\n",
    "\n",
    "#FILTER 6\n",
    "# not_familyID = 63"
   ]
  },
  {
   "cell_type": "markdown",
   "metadata": {},
   "source": [
    "# SPLITTING TRAIN and TEST (test = dogs, train = humans)"
   ]
  },
  {
   "cell_type": "code",
   "execution_count": 4,
   "metadata": {
    "scrolled": true
   },
   "outputs": [
    {
     "data": {
      "text/html": [
       "<div>\n",
       "<style scoped>\n",
       "    .dataframe tbody tr th:only-of-type {\n",
       "        vertical-align: middle;\n",
       "    }\n",
       "\n",
       "    .dataframe tbody tr th {\n",
       "        vertical-align: top;\n",
       "    }\n",
       "\n",
       "    .dataframe thead th {\n",
       "        text-align: right;\n",
       "    }\n",
       "</style>\n",
       "<table border=\"1\" class=\"dataframe\">\n",
       "  <thead>\n",
       "    <tr style=\"text-align: right;\">\n",
       "      <th></th>\n",
       "      <th>sample_name</th>\n",
       "      <th>age</th>\n",
       "      <th>age_in_years</th>\n",
       "      <th>age_units</th>\n",
       "      <th>agegroup</th>\n",
       "      <th>anonymized_name</th>\n",
       "      <th>body_habitat</th>\n",
       "      <th>body_product</th>\n",
       "      <th>body_site</th>\n",
       "      <th>collection_timestamp</th>\n",
       "      <th>...</th>\n",
       "      <th>k__Bacteria; p__Firmicutes; c__Erysipelotrichi; o__Erysipelotrichales; f__Erysipelotrichaceae; g__; s__.7</th>\n",
       "      <th>k__Bacteria; p__Bacteroidetes; c__Bacteroidia; o__Bacteroidales; f__[Odoribacteraceae]; g__Odoribacter; s__.1</th>\n",
       "      <th>k__Bacteria; p__Bacteroidetes; c__Bacteroidia; o__Bacteroidales; f__Prevotellaceae; g__Prevotella; s__intermedia</th>\n",
       "      <th>k__Bacteria; p__Firmicutes; c__Bacilli; o__Lactobacillales; f__Streptococcaceae; g__Streptococcus; s__.41</th>\n",
       "      <th>k__Bacteria; p__Cyanobacteria; c__Chloroplast; o__Streptophyta; f__; g__; s__.6</th>\n",
       "      <th>k__Bacteria; p__Bacteroidetes; c__Bacteroidia; o__Bacteroidales; f__Bacteroidaceae; g__Bacteroides; s__.54</th>\n",
       "      <th>k__Bacteria; p__Bacteroidetes; c__Bacteroidia; o__Bacteroidales; f__Prevotellaceae; g__Prevotella; s__.23</th>\n",
       "      <th>k__Bacteria; p__Bacteroidetes; c__Bacteroidia; o__Bacteroidales; f__Bacteroidaceae; g__Bacteroides; s__.55</th>\n",
       "      <th>k__Bacteria; p__Actinobacteria; c__Actinobacteria; o__Actinomycetales; f__Propionibacteriaceae; g__Propionibacterium; s__granulosum</th>\n",
       "      <th>have_dog</th>\n",
       "    </tr>\n",
       "  </thead>\n",
       "  <tbody>\n",
       "    <tr>\n",
       "      <th>20</th>\n",
       "      <td>797.03.CA.BackLeftPaw</td>\n",
       "      <td>Not recorded</td>\n",
       "      <td>Not recorded</td>\n",
       "      <td>years</td>\n",
       "      <td>Not recorded</td>\n",
       "      <td>FS_175</td>\n",
       "      <td>UBERON:skin</td>\n",
       "      <td>UBERON:sebum</td>\n",
       "      <td>UBERON:foot skin</td>\n",
       "      <td>2/10/2010</td>\n",
       "      <td>...</td>\n",
       "      <td>0</td>\n",
       "      <td>0</td>\n",
       "      <td>0</td>\n",
       "      <td>0</td>\n",
       "      <td>0</td>\n",
       "      <td>0</td>\n",
       "      <td>0</td>\n",
       "      <td>0</td>\n",
       "      <td>0</td>\n",
       "      <td>yes</td>\n",
       "    </tr>\n",
       "  </tbody>\n",
       "</table>\n",
       "<p>1 rows × 1088 columns</p>\n",
       "</div>"
      ],
      "text/plain": [
       "              sample_name           age  age_in_years age_units      agegroup  \\\n",
       "20  797.03.CA.BackLeftPaw  Not recorded  Not recorded     years  Not recorded   \n",
       "\n",
       "   anonymized_name body_habitat  body_product         body_site  \\\n",
       "20          FS_175  UBERON:skin  UBERON:sebum  UBERON:foot skin   \n",
       "\n",
       "   collection_timestamp    ...     \\\n",
       "20            2/10/2010    ...      \n",
       "\n",
       "   k__Bacteria; p__Firmicutes; c__Erysipelotrichi; o__Erysipelotrichales; f__Erysipelotrichaceae; g__; s__.7  \\\n",
       "20                                                  0                                                          \n",
       "\n",
       "   k__Bacteria; p__Bacteroidetes; c__Bacteroidia; o__Bacteroidales; f__[Odoribacteraceae]; g__Odoribacter; s__.1  \\\n",
       "20                                                  0                                                              \n",
       "\n",
       "    k__Bacteria; p__Bacteroidetes; c__Bacteroidia; o__Bacteroidales; f__Prevotellaceae; g__Prevotella; s__intermedia  \\\n",
       "20                                                  0                                                                  \n",
       "\n",
       "   k__Bacteria; p__Firmicutes; c__Bacilli; o__Lactobacillales; f__Streptococcaceae; g__Streptococcus; s__.41  \\\n",
       "20                                                  0                                                          \n",
       "\n",
       "    k__Bacteria; p__Cyanobacteria; c__Chloroplast; o__Streptophyta; f__; g__; s__.6  \\\n",
       "20                                                  0                                 \n",
       "\n",
       "   k__Bacteria; p__Bacteroidetes; c__Bacteroidia; o__Bacteroidales; f__Bacteroidaceae; g__Bacteroides; s__.54  \\\n",
       "20                                                  0                                                           \n",
       "\n",
       "   k__Bacteria; p__Bacteroidetes; c__Bacteroidia; o__Bacteroidales; f__Prevotellaceae; g__Prevotella; s__.23  \\\n",
       "20                                                  0                                                          \n",
       "\n",
       "   k__Bacteria; p__Bacteroidetes; c__Bacteroidia; o__Bacteroidales; f__Bacteroidaceae; g__Bacteroides; s__.55  \\\n",
       "20                                                  0                                                           \n",
       "\n",
       "   k__Bacteria; p__Actinobacteria; c__Actinobacteria; o__Actinomycetales; f__Propionibacteriaceae; g__Propionibacterium; s__granulosum  \\\n",
       "20                                                  0                                                                                    \n",
       "\n",
       "    have_dog  \n",
       "20       yes  \n",
       "\n",
       "[1 rows x 1088 columns]"
      ]
     },
     "execution_count": 4,
     "metadata": {},
     "output_type": "execute_result"
    }
   ],
   "source": [
    "human_data_train = mergedf[mergedf.host_common_name ==\"human\"]\n",
    "\n",
    "dog_data_test = mergedf[mergedf.host_common_name ==\"dog\"]\n",
    "dog_data_test.head(1)"
   ]
  },
  {
   "cell_type": "code",
   "execution_count": 5,
   "metadata": {
    "scrolled": true
   },
   "outputs": [
    {
     "name": "stdout",
     "output_type": "stream",
     "text": [
      "no filter here 1\n",
      "(837, 1088)\n",
      "no filter here 2\n",
      "(837, 1088)\n",
      "no filter here 4\n",
      "(837, 1088)\n"
     ]
    }
   ],
   "source": [
    "# Applying filters above\n",
    "try:\n",
    "    if have_dog == \"only_dog_owners\":\n",
    "        human_data_train = human_data_train[human_data_train.have_dog ==\"yes\"]\n",
    "    \n",
    "    elif have_dog == \"only_non_dog_owners\":\n",
    "        human_data_train = human_data_train[human_data_train.have_dog ==\"no\"]\n",
    "    elif have_dog == \"all\":\n",
    "        human_data_train = human_data_train\n",
    "    else:\n",
    "        human_data_train = human_data_train\n",
    "except:\n",
    "    print(\"no filter here 1\")\n",
    "print(human_data_train.shape)\n",
    "\n",
    "try:    \n",
    "    if sample_type!= \"all\":\n",
    "        human_data_train = human_data_train[human_data_train.sample_type ==sample_type]\n",
    "        dog_data_test = dog_data_test[dog_data_test.sample_type ==sample_type]\n",
    "    elif sample_type == \"all\":\n",
    "        human_data_train = human_data_train\n",
    "        dog_data_test = dog_data_test\n",
    "    else:\n",
    "        human_data_train = human_data_train\n",
    "        dog_data_test = dog_data_test\n",
    "except:\n",
    "    print(\"no filter here 2\")\n",
    "print(human_data_train.shape)  \n",
    "\n",
    "# try:    \n",
    "#     if not_sample_type:\n",
    "#         human_data_train = human_data_train[human_data_train.sample_type !=not_sample_type]\n",
    "#         dog_data_test = dog_data_test[dog_data_test.sample_type !=not_sample_type]\n",
    "#     elif sample_type == \"all\":\n",
    "#         human_data_train = human_data_train\n",
    "#         dog_data_test = dog_data_test\n",
    "# except:\n",
    "#     print(\"no filter here 3\")\n",
    "    \n",
    "try:    \n",
    "    if human_role != \"all\":\n",
    "        human_data_train = human_data_train[human_data_train.role ==human_role]\n",
    "    elif human_role == \"all\":\n",
    "        human_data_train = human_data_train\n",
    "    else:\n",
    "        human_data_train = human_data_train\n",
    "except:\n",
    "    print(\"no filter here 4\")\n",
    "print(human_data_train.shape)    "
   ]
  },
  {
   "cell_type": "markdown",
   "metadata": {},
   "source": [
    "# Train/test split"
   ]
  },
  {
   "cell_type": "code",
   "execution_count": 6,
   "metadata": {},
   "outputs": [],
   "source": [
    "X_train = human_data_train.iloc[:, -1035:-1]\n",
    "y_train = human_data_train[\"familyID\"].values.reshape(-1, 1)\n",
    "\n",
    "y_test = dog_data_test[\"familyID\"].values.reshape(-1, 1)\n",
    "X_test = dog_data_test.iloc[:, -1035:-1]\n"
   ]
  },
  {
   "cell_type": "code",
   "execution_count": 7,
   "metadata": {},
   "outputs": [],
   "source": [
    "# X = human_data_train.iloc[:, -1035:-1]\n",
    "# y = human_data_train[\"familyID\"].values.reshape(-1, 1)\n",
    "\n",
    "X_train_h, X_test_h, y_train_h, y_test_h = train_test_split(X_train, y_train, random_state=42)\n",
    "\n",
    "# train_h, test_h = train_test_split(human_data_train, random_state=42)\n",
    "\n",
    "# X_train_h = X_train_h.iloc[:, -1035:-1]\n",
    "# X_test_h = X_test_h.iloc[:, -1035:-1]\n",
    "\n",
    "# y_train_h = train_h.iloc[\"familyID\"].values.reshape(-1, 1)\n",
    "# y_test_h = test_h.iloc[\"familyID\"].values.reshape(-1, 1)"
   ]
  },
  {
   "cell_type": "markdown",
   "metadata": {},
   "source": [
    "# Hyperparameter Selection"
   ]
  },
  {
   "cell_type": "code",
   "execution_count": 8,
   "metadata": {},
   "outputs": [],
   "source": [
    "n_estimators = 1000\n",
    "\n",
    "from sklearn.ensemble import RandomForestClassifier\n",
    "rf = RandomForestClassifier(n_estimators=n_estimators)\n",
    "\n",
    "#for Humans\n",
    "rf_h = RandomForestClassifier(n_estimators=n_estimators)"
   ]
  },
  {
   "cell_type": "markdown",
   "metadata": {},
   "source": [
    "# Non-Scaled Model Fitting"
   ]
  },
  {
   "cell_type": "code",
   "execution_count": 9,
   "metadata": {},
   "outputs": [
    {
     "name": "stdout",
     "output_type": "stream",
     "text": [
      "Test Score: 0.14\n",
      "Train Score: 1.0\n"
     ]
    }
   ],
   "source": [
    "# DOG --> HUMAN\n",
    "#from non-scaled data\n",
    "rf = rf.fit(X_train, y_train.ravel())\n",
    "rf.score(X_test, y_test) #geni impurity coefficient\n",
    "\n",
    "dog_rf = round(rf.score(X_test, y_test),2)\n",
    "\n",
    "print(f'Test Score: {dog_rf}')\n",
    "print(f'Train Score: {rf.score(X_train, y_train)}')"
   ]
  },
  {
   "cell_type": "code",
   "execution_count": 10,
   "metadata": {},
   "outputs": [
    {
     "name": "stdout",
     "output_type": "stream",
     "text": [
      "Test Score for Human (RF): 0.25\n",
      "Train Score: 1.0\n"
     ]
    }
   ],
   "source": [
    "# Human --> Human\n",
    "rf_h = rf_h.fit(X_train_h, y_train_h.ravel())\n",
    "rf_h.score(X_test_h, y_test_h) #geni impurity coefficient\n",
    "\n",
    "hu_rf = round(rf_h.score(X_test_h, y_test_h),2)\n",
    "\n",
    "print(f'Test Score for Human (RF): {hu_rf}')\n",
    "print(f'Train Score: {rf_h.score(X_train_h, y_train_h)}')"
   ]
  },
  {
   "cell_type": "markdown",
   "metadata": {},
   "source": [
    "# Scaled X Model Fitting"
   ]
  },
  {
   "cell_type": "code",
   "execution_count": 11,
   "metadata": {},
   "outputs": [],
   "source": [
    "# from sklearn.preprocessing import StandardScaler\n",
    "# X_scaler = StandardScaler().fit(X_train)\n",
    "\n",
    "# X_train_scaled = X_scaler.transform(X_train)\n",
    "# X_test_scaled = X_scaler.transform(X_test)"
   ]
  },
  {
   "cell_type": "code",
   "execution_count": 12,
   "metadata": {},
   "outputs": [],
   "source": [
    "# # from scaled data\n",
    "# rf_scaled = RandomForestClassifier(n_estimators=n_estimators)\n",
    "# rf_scaled = rf_scaled.fit(X_train_scaled, y_train.ravel())\n",
    "# rf_scaled.score(X_test_scaled, y_test) #geni impurity coefficient\n",
    "\n",
    "# print(f'Test Score: {rf_scaled.score(X_test_scaled, y_test)}')\n",
    "# print(f'Train Score: {rf_scaled.score(X_train_scaled, y_train)}')"
   ]
  },
  {
   "cell_type": "markdown",
   "metadata": {},
   "source": [
    "# Evaluate most-guessed family for each dog (7 collection site/predictions per animal) ==> 1 prediction"
   ]
  },
  {
   "cell_type": "code",
   "execution_count": 13,
   "metadata": {},
   "outputs": [
    {
     "name": "stdout",
     "output_type": "stream",
     "text": [
      "(213, 4)\n"
     ]
    },
    {
     "data": {
      "text/html": [
       "<div>\n",
       "<style scoped>\n",
       "    .dataframe tbody tr th:only-of-type {\n",
       "        vertical-align: middle;\n",
       "    }\n",
       "\n",
       "    .dataframe tbody tr th {\n",
       "        vertical-align: top;\n",
       "    }\n",
       "\n",
       "    .dataframe thead th {\n",
       "        text-align: right;\n",
       "    }\n",
       "</style>\n",
       "<table border=\"1\" class=\"dataframe\">\n",
       "  <thead>\n",
       "    <tr style=\"text-align: right;\">\n",
       "      <th></th>\n",
       "      <th>SampleName</th>\n",
       "      <th>Anonymized_Name</th>\n",
       "      <th>Prediction</th>\n",
       "      <th>Actual</th>\n",
       "    </tr>\n",
       "  </thead>\n",
       "  <tbody>\n",
       "    <tr>\n",
       "      <th>0</th>\n",
       "      <td>797.03.CA.BackLeftPaw</td>\n",
       "      <td>FS_175</td>\n",
       "      <td>family#5</td>\n",
       "      <td>family#3</td>\n",
       "    </tr>\n",
       "    <tr>\n",
       "      <th>1</th>\n",
       "      <td>797.03.CA.BackRightPaw</td>\n",
       "      <td>FS_175</td>\n",
       "      <td>family#5</td>\n",
       "      <td>family#3</td>\n",
       "    </tr>\n",
       "    <tr>\n",
       "      <th>2</th>\n",
       "      <td>797.03.CA.Forehead</td>\n",
       "      <td>FS_175</td>\n",
       "      <td>family#5</td>\n",
       "      <td>family#3</td>\n",
       "    </tr>\n",
       "    <tr>\n",
       "      <th>3</th>\n",
       "      <td>797.03.CA.FrontRightPaw</td>\n",
       "      <td>FS_175</td>\n",
       "      <td>family#5</td>\n",
       "      <td>family#3</td>\n",
       "    </tr>\n",
       "    <tr>\n",
       "      <th>4</th>\n",
       "      <td>797.03.CA.Stool</td>\n",
       "      <td>FS_175</td>\n",
       "      <td>family#7</td>\n",
       "      <td>family#3</td>\n",
       "    </tr>\n",
       "  </tbody>\n",
       "</table>\n",
       "</div>"
      ],
      "text/plain": [
       "                SampleName Anonymized_Name Prediction    Actual\n",
       "0    797.03.CA.BackLeftPaw          FS_175   family#5  family#3\n",
       "1   797.03.CA.BackRightPaw          FS_175   family#5  family#3\n",
       "2       797.03.CA.Forehead          FS_175   family#5  family#3\n",
       "3  797.03.CA.FrontRightPaw          FS_175   family#5  family#3\n",
       "4          797.03.CA.Stool          FS_175   family#7  family#3"
      ]
     },
     "execution_count": 13,
     "metadata": {},
     "output_type": "execute_result"
    }
   ],
   "source": [
    "y_pred = rf.predict(X_test)\n",
    "\n",
    "outputdf = pd.DataFrame({\"SampleName\": dog_data_test[\"sample_name\"],\"Anonymized_Name\":dog_data_test[\"anonymized_name\"],\"Prediction\": y_pred, \"Actual\": y_test.ravel()}).reset_index(drop=True)\n",
    "print(outputdf.shape)\n",
    "outputdf.head()"
   ]
  },
  {
   "cell_type": "code",
   "execution_count": 14,
   "metadata": {},
   "outputs": [
    {
     "data": {
      "text/html": [
       "<div>\n",
       "<style scoped>\n",
       "    .dataframe tbody tr th:only-of-type {\n",
       "        vertical-align: middle;\n",
       "    }\n",
       "\n",
       "    .dataframe tbody tr th {\n",
       "        vertical-align: top;\n",
       "    }\n",
       "\n",
       "    .dataframe thead th {\n",
       "        text-align: right;\n",
       "    }\n",
       "</style>\n",
       "<table border=\"1\" class=\"dataframe\">\n",
       "  <thead>\n",
       "    <tr style=\"text-align: right;\">\n",
       "      <th></th>\n",
       "      <th></th>\n",
       "      <th></th>\n",
       "      <th>SampleName</th>\n",
       "    </tr>\n",
       "    <tr>\n",
       "      <th>Anonymized_Name</th>\n",
       "      <th>Actual</th>\n",
       "      <th>Prediction</th>\n",
       "      <th></th>\n",
       "    </tr>\n",
       "  </thead>\n",
       "  <tbody>\n",
       "    <tr>\n",
       "      <th rowspan=\"3\" valign=\"top\">FS_175</th>\n",
       "      <th rowspan=\"3\" valign=\"top\">family#3</th>\n",
       "      <th>family#5</th>\n",
       "      <td>4</td>\n",
       "    </tr>\n",
       "    <tr>\n",
       "      <th>family#7</th>\n",
       "      <td>1</td>\n",
       "    </tr>\n",
       "    <tr>\n",
       "      <th>family#71</th>\n",
       "      <td>1</td>\n",
       "    </tr>\n",
       "    <tr>\n",
       "      <th rowspan=\"2\" valign=\"top\">FS_176</th>\n",
       "      <th rowspan=\"2\" valign=\"top\">family#6</th>\n",
       "      <th>family#49</th>\n",
       "      <td>1</td>\n",
       "    </tr>\n",
       "    <tr>\n",
       "      <th>family#5</th>\n",
       "      <td>1</td>\n",
       "    </tr>\n",
       "  </tbody>\n",
       "</table>\n",
       "</div>"
      ],
      "text/plain": [
       "                                     SampleName\n",
       "Anonymized_Name Actual   Prediction            \n",
       "FS_175          family#3 family#5             4\n",
       "                         family#7             1\n",
       "                         family#71            1\n",
       "FS_176          family#6 family#49            1\n",
       "                         family#5             1"
      ]
     },
     "execution_count": 14,
     "metadata": {},
     "output_type": "execute_result"
    }
   ],
   "source": [
    "sumOutput = outputdf.groupby([\"Anonymized_Name\",\"Actual\",\"Prediction\"]).count()\n",
    "sumOutput.reset_index()\n",
    "sumOutput.head()"
   ]
  },
  {
   "cell_type": "code",
   "execution_count": 15,
   "metadata": {},
   "outputs": [
    {
     "name": "stdout",
     "output_type": "stream",
     "text": [
      "(48, 4)\n",
      "(36, 4)\n",
      "(7, 4)\n",
      "(29, 4)\n"
     ]
    }
   ],
   "source": [
    "# sumOutput.groupby([\"Anonymized_Name\"])['SampleName'].max()\n",
    "idx = sumOutput.groupby([\"Anonymized_Name\"])['SampleName'].transform(max) == sumOutput['SampleName']\n",
    "maxOutput = sumOutput[idx]\n",
    "maxOutput = maxOutput.reset_index()\n",
    "print(maxOutput.shape)\n",
    "# maxOutput\n",
    "\n",
    "maxOutput_noDup = maxOutput.drop_duplicates(subset=['Anonymized_Name'], keep=\"first\")\n",
    "print(maxOutput_noDup.shape)\n",
    "# maxOutput_noDup\n",
    "\n",
    "maxOutput_C = maxOutput_noDup[maxOutput_noDup.Actual == maxOutput_noDup.Prediction]\n",
    "\n",
    "print(maxOutput_C.shape)\n",
    "# maxOutput_C\n",
    "\n",
    "maxOutput_I = maxOutput_noDup[maxOutput_noDup.Actual != maxOutput_noDup.Prediction]\n",
    "\n",
    "print(maxOutput_I.shape)\n",
    "# maxOutput_I"
   ]
  },
  {
   "cell_type": "code",
   "execution_count": null,
   "metadata": {
    "scrolled": true
   },
   "outputs": [],
   "source": []
  },
  {
   "cell_type": "code",
   "execution_count": 16,
   "metadata": {
    "scrolled": true
   },
   "outputs": [
    {
     "name": "stdout",
     "output_type": "stream",
     "text": [
      " Accuracy of most-predicted (dog) family: 0.194\n"
     ]
    }
   ],
   "source": [
    "correct_total = maxOutput_C[\"Anonymized_Name\"].count()\n",
    "incorrect_total = maxOutput_I[\"Anonymized_Name\"].count()\n",
    "\n",
    "accuracy_maxed_pred_rf = correct_total/(correct_total + incorrect_total)\n",
    "print(f' Accuracy of most-predicted (dog) family: {round(accuracy_maxed_pred_rf,3)}')"
   ]
  },
  {
   "cell_type": "markdown",
   "metadata": {},
   "source": [
    "#NOW FOR HUMANS"
   ]
  },
  {
   "cell_type": "markdown",
   "metadata": {},
   "source": [
    "# LOGISTIC REGRESSION"
   ]
  },
  {
   "cell_type": "code",
   "execution_count": 17,
   "metadata": {},
   "outputs": [],
   "source": [
    "from sklearn.preprocessing import StandardScaler\n",
    "X_scaler = StandardScaler().fit(X_train)\n",
    "\n",
    "X_train_scaled = X_scaler.transform(X_train)\n",
    "X_test_scaled = X_scaler.transform(X_test)\n",
    "\n",
    "X_train_scaled_h = X_scaler.transform(X_train_h)\n",
    "X_test_scaled_h = X_scaler.transform(X_test_h)"
   ]
  },
  {
   "cell_type": "code",
   "execution_count": 18,
   "metadata": {},
   "outputs": [
    {
     "data": {
      "text/plain": [
       "LogisticRegression(C=1.0, class_weight=None, dual=False, fit_intercept=True,\n",
       "                   intercept_scaling=1, l1_ratio=None, max_iter=100,\n",
       "                   multi_class='auto', n_jobs=None, penalty='l2',\n",
       "                   random_state=None, solver='lbfgs', tol=0.0001, verbose=0,\n",
       "                   warm_start=False)"
      ]
     },
     "execution_count": 18,
     "metadata": {},
     "output_type": "execute_result"
    }
   ],
   "source": [
    "from sklearn.linear_model import LogisticRegression\n",
    "classifier = LogisticRegression()\n",
    "classifier"
   ]
  },
  {
   "cell_type": "code",
   "execution_count": 19,
   "metadata": {},
   "outputs": [
    {
     "name": "stderr",
     "output_type": "stream",
     "text": [
      "C:\\Users\\Romina\\Anaconda3\\lib\\site-packages\\sklearn\\linear_model\\_logistic.py:940: ConvergenceWarning: lbfgs failed to converge (status=1):\n",
      "STOP: TOTAL NO. of ITERATIONS REACHED LIMIT.\n",
      "\n",
      "Increase the number of iterations (max_iter) or scale the data as shown in:\n",
      "    https://scikit-learn.org/stable/modules/preprocessing.html\n",
      "Please also refer to the documentation for alternative solver options:\n",
      "    https://scikit-learn.org/stable/modules/linear_model.html#logistic-regression\n",
      "  extra_warning_msg=_LOGISTIC_SOLVER_CONVERGENCE_MSG)\n"
     ]
    },
    {
     "name": "stdout",
     "output_type": "stream",
     "text": [
      "Test Data Model Score for Dogs: 0.1\n",
      "Test Data Model Score for Humans: 0.18\n"
     ]
    },
    {
     "name": "stderr",
     "output_type": "stream",
     "text": [
      "C:\\Users\\Romina\\Anaconda3\\lib\\site-packages\\sklearn\\linear_model\\_logistic.py:940: ConvergenceWarning: lbfgs failed to converge (status=1):\n",
      "STOP: TOTAL NO. of ITERATIONS REACHED LIMIT.\n",
      "\n",
      "Increase the number of iterations (max_iter) or scale the data as shown in:\n",
      "    https://scikit-learn.org/stable/modules/preprocessing.html\n",
      "Please also refer to the documentation for alternative solver options:\n",
      "    https://scikit-learn.org/stable/modules/linear_model.html#logistic-regression\n",
      "  extra_warning_msg=_LOGISTIC_SOLVER_CONVERGENCE_MSG)\n"
     ]
    }
   ],
   "source": [
    "############ dog logistic regression\n",
    "model = classifier.fit(X_train_scaled, y_train.ravel())\n",
    "\n",
    "dog_lr = round(classifier.score(X_test_scaled, y_test),2)\n",
    "print(f'Test Data Model Score for Dogs: {dog_lr}')\n",
    "\n",
    "############# human logistic regression\n",
    "model_h = classifier.fit(X_train_scaled_h, y_train_h.ravel())\n",
    "\n",
    "hu_lr = round(classifier.score(X_test_scaled_h, y_test_h),2)\n",
    "print(f'Test Data Model Score for Humans: {hu_lr}')"
   ]
  },
  {
   "cell_type": "code",
   "execution_count": 20,
   "metadata": {},
   "outputs": [
    {
     "name": "stdout",
     "output_type": "stream",
     "text": [
      "(213, 4)\n"
     ]
    },
    {
     "data": {
      "text/html": [
       "<div>\n",
       "<style scoped>\n",
       "    .dataframe tbody tr th:only-of-type {\n",
       "        vertical-align: middle;\n",
       "    }\n",
       "\n",
       "    .dataframe tbody tr th {\n",
       "        vertical-align: top;\n",
       "    }\n",
       "\n",
       "    .dataframe thead th {\n",
       "        text-align: right;\n",
       "    }\n",
       "</style>\n",
       "<table border=\"1\" class=\"dataframe\">\n",
       "  <thead>\n",
       "    <tr style=\"text-align: right;\">\n",
       "      <th></th>\n",
       "      <th>SampleName</th>\n",
       "      <th>Anonymized_Name</th>\n",
       "      <th>Prediction</th>\n",
       "      <th>Actual</th>\n",
       "    </tr>\n",
       "  </thead>\n",
       "  <tbody>\n",
       "    <tr>\n",
       "      <th>0</th>\n",
       "      <td>797.03.CA.BackLeftPaw</td>\n",
       "      <td>FS_175</td>\n",
       "      <td>family#55</td>\n",
       "      <td>family#3</td>\n",
       "    </tr>\n",
       "    <tr>\n",
       "      <th>1</th>\n",
       "      <td>797.03.CA.BackRightPaw</td>\n",
       "      <td>FS_175</td>\n",
       "      <td>family#55</td>\n",
       "      <td>family#3</td>\n",
       "    </tr>\n",
       "    <tr>\n",
       "      <th>2</th>\n",
       "      <td>797.03.CA.Forehead</td>\n",
       "      <td>FS_175</td>\n",
       "      <td>family#55</td>\n",
       "      <td>family#3</td>\n",
       "    </tr>\n",
       "    <tr>\n",
       "      <th>3</th>\n",
       "      <td>797.03.CA.FrontRightPaw</td>\n",
       "      <td>FS_175</td>\n",
       "      <td>family#49</td>\n",
       "      <td>family#3</td>\n",
       "    </tr>\n",
       "    <tr>\n",
       "      <th>4</th>\n",
       "      <td>797.03.CA.Stool</td>\n",
       "      <td>FS_175</td>\n",
       "      <td>family#24</td>\n",
       "      <td>family#3</td>\n",
       "    </tr>\n",
       "  </tbody>\n",
       "</table>\n",
       "</div>"
      ],
      "text/plain": [
       "                SampleName Anonymized_Name Prediction    Actual\n",
       "0    797.03.CA.BackLeftPaw          FS_175  family#55  family#3\n",
       "1   797.03.CA.BackRightPaw          FS_175  family#55  family#3\n",
       "2       797.03.CA.Forehead          FS_175  family#55  family#3\n",
       "3  797.03.CA.FrontRightPaw          FS_175  family#49  family#3\n",
       "4          797.03.CA.Stool          FS_175  family#24  family#3"
      ]
     },
     "execution_count": 20,
     "metadata": {},
     "output_type": "execute_result"
    }
   ],
   "source": [
    "y_pred_logisticR = model.predict(X_test_scaled)\n",
    "\n",
    "# y_pred_logisticR_h = model_h.predict(X_test_scaled_h)\n",
    "\n",
    "outputdf = pd.DataFrame({\"SampleName\": dog_data_test[\"sample_name\"],\"Anonymized_Name\":dog_data_test[\"anonymized_name\"],\"Prediction\": y_pred_logisticR, \"Actual\": y_test.ravel()}).reset_index(drop=True)\n",
    "print(outputdf.shape)\n",
    "outputdf.head()"
   ]
  },
  {
   "cell_type": "code",
   "execution_count": 21,
   "metadata": {},
   "outputs": [],
   "source": [
    "# feature_importance=pd.DataFrame(np.hstack(np.array(bacteria_array, coef), columns=['feature_bacteria', 'importance'])"
   ]
  },
  {
   "cell_type": "code",
   "execution_count": 22,
   "metadata": {
    "scrolled": true
   },
   "outputs": [],
   "source": [
    "# # feature_importance=pd.DataFrame(list(zip(bacteria_array.T, model.coef_.T)), columns=['feature', 'importance'])\n",
    "# feature_importance=pd.DataFrame(list(zip(bacteria_array, coef)), columns=['feature', 'importance'])\n",
    "# feature_importance"
   ]
  },
  {
   "cell_type": "code",
   "execution_count": 23,
   "metadata": {},
   "outputs": [
    {
     "data": {
      "text/html": [
       "<div>\n",
       "<style scoped>\n",
       "    .dataframe tbody tr th:only-of-type {\n",
       "        vertical-align: middle;\n",
       "    }\n",
       "\n",
       "    .dataframe tbody tr th {\n",
       "        vertical-align: top;\n",
       "    }\n",
       "\n",
       "    .dataframe thead th {\n",
       "        text-align: right;\n",
       "    }\n",
       "</style>\n",
       "<table border=\"1\" class=\"dataframe\">\n",
       "  <thead>\n",
       "    <tr style=\"text-align: right;\">\n",
       "      <th></th>\n",
       "      <th></th>\n",
       "      <th></th>\n",
       "      <th>SampleName</th>\n",
       "    </tr>\n",
       "    <tr>\n",
       "      <th>Anonymized_Name</th>\n",
       "      <th>Actual</th>\n",
       "      <th>Prediction</th>\n",
       "      <th></th>\n",
       "    </tr>\n",
       "  </thead>\n",
       "  <tbody>\n",
       "    <tr>\n",
       "      <th rowspan=\"4\" valign=\"top\">FS_175</th>\n",
       "      <th rowspan=\"4\" valign=\"top\">family#3</th>\n",
       "      <th>family#24</th>\n",
       "      <td>1</td>\n",
       "    </tr>\n",
       "    <tr>\n",
       "      <th>family#49</th>\n",
       "      <td>1</td>\n",
       "    </tr>\n",
       "    <tr>\n",
       "      <th>family#55</th>\n",
       "      <td>3</td>\n",
       "    </tr>\n",
       "    <tr>\n",
       "      <th>family#71</th>\n",
       "      <td>1</td>\n",
       "    </tr>\n",
       "    <tr>\n",
       "      <th>FS_176</th>\n",
       "      <th>family#6</th>\n",
       "      <th>family#2</th>\n",
       "      <td>1</td>\n",
       "    </tr>\n",
       "  </tbody>\n",
       "</table>\n",
       "</div>"
      ],
      "text/plain": [
       "                                     SampleName\n",
       "Anonymized_Name Actual   Prediction            \n",
       "FS_175          family#3 family#24            1\n",
       "                         family#49            1\n",
       "                         family#55            3\n",
       "                         family#71            1\n",
       "FS_176          family#6 family#2             1"
      ]
     },
     "execution_count": 23,
     "metadata": {},
     "output_type": "execute_result"
    }
   ],
   "source": [
    "sumOutput_logisticR = outputdf.groupby([\"Anonymized_Name\",\"Actual\",\"Prediction\"]).count()\n",
    "sumOutput_logisticR.reset_index()\n",
    "sumOutput_logisticR.head()"
   ]
  },
  {
   "cell_type": "code",
   "execution_count": 24,
   "metadata": {},
   "outputs": [
    {
     "name": "stdout",
     "output_type": "stream",
     "text": [
      "(102, 4)\n"
     ]
    }
   ],
   "source": [
    "# sumOutput.groupby([\"Anonymized_Name\"])['SampleName'].max()\n",
    "idx_logisticR = sumOutput_logisticR.groupby([\"Anonymized_Name\"])['SampleName'].transform(max) == sumOutput_logisticR['SampleName']\n",
    "maxOutput_logisticR = sumOutput_logisticR[idx_logisticR]\n",
    "maxOutput_logisticR = maxOutput_logisticR.reset_index()\n",
    "print(maxOutput_logisticR.shape)\n",
    "# maxOutput"
   ]
  },
  {
   "cell_type": "code",
   "execution_count": 25,
   "metadata": {},
   "outputs": [
    {
     "name": "stdout",
     "output_type": "stream",
     "text": [
      "(36, 4)\n",
      "(4, 4)\n",
      "(32, 4)\n"
     ]
    }
   ],
   "source": [
    "maxOutput_noDup_logisticR = maxOutput_logisticR.drop_duplicates(subset=['Anonymized_Name'], keep=\"first\")\n",
    "print(maxOutput_noDup_logisticR.shape)\n",
    "# maxOutput_noDup\n",
    "\n",
    "maxOutput_C_logisticR = maxOutput_noDup_logisticR[maxOutput_noDup_logisticR.Actual == maxOutput_noDup_logisticR.Prediction]\n",
    "\n",
    "print(maxOutput_C_logisticR.shape)\n",
    "# maxOutput_C\n",
    "\n",
    "maxOutput_I_logisticR = maxOutput_noDup_logisticR[maxOutput_noDup_logisticR.Actual != maxOutput_noDup_logisticR.Prediction]\n",
    "\n",
    "print(maxOutput_I_logisticR.shape)\n",
    "# maxOutput_I"
   ]
  },
  {
   "cell_type": "code",
   "execution_count": 26,
   "metadata": {},
   "outputs": [],
   "source": [
    "correct_total_logisticR = maxOutput_C_logisticR[\"Anonymized_Name\"].count()\n",
    "incorrect_total_logisticR = maxOutput_I_logisticR[\"Anonymized_Name\"].count()\n",
    "\n",
    "accuracy_maxed_pred_logisticR_dog = correct_total_logisticR/(correct_total_logisticR + incorrect_total_logisticR)\n",
    "# print(f' Accuracy of most-predicted (dog) family (logistic Regression): {round(accuracy_maxed_pred_logisticR,2)}')"
   ]
  },
  {
   "cell_type": "markdown",
   "metadata": {},
   "source": [
    "# Naive Bayes"
   ]
  },
  {
   "cell_type": "code",
   "execution_count": 27,
   "metadata": {},
   "outputs": [
    {
     "data": {
      "text/plain": [
       "GaussianNB(priors=None, var_smoothing=1e-09)"
      ]
     },
     "execution_count": 27,
     "metadata": {},
     "output_type": "execute_result"
    }
   ],
   "source": [
    "model_nb_dog = GaussianNB()\n",
    "model_nb_dog.fit(X_train, y_train.ravel())"
   ]
  },
  {
   "cell_type": "code",
   "execution_count": 28,
   "metadata": {},
   "outputs": [
    {
     "name": "stdout",
     "output_type": "stream",
     "text": [
      " Accuracy of most-predicted (dog) family (NB): 0.13\n"
     ]
    }
   ],
   "source": [
    "pred_nb_dog = model_nb_dog.predict(X_test)\n",
    "accuracy_nb_dog = round(accuracy_score(y_test, pred_nb_dog),2)\n",
    "\n",
    "\n",
    "# print(f' Accuracy of most-predicted (dog) family (NB): {accuracy_nb_dog}')"
   ]
  },
  {
   "cell_type": "code",
   "execution_count": 29,
   "metadata": {},
   "outputs": [
    {
     "data": {
      "text/plain": [
       "GaussianNB(priors=None, var_smoothing=1e-09)"
      ]
     },
     "execution_count": 29,
     "metadata": {},
     "output_type": "execute_result"
    }
   ],
   "source": [
    "model_nb_hu = GaussianNB()\n",
    "model_nb_hu.fit(X_train_h, y_train_h.ravel())\n"
   ]
  },
  {
   "cell_type": "code",
   "execution_count": 30,
   "metadata": {},
   "outputs": [
    {
     "data": {
      "text/plain": [
       "0.2"
      ]
     },
     "execution_count": 30,
     "metadata": {},
     "output_type": "execute_result"
    }
   ],
   "source": [
    "pred_nb_hu = model_nb_hu.predict(X_test_h)\n",
    "accuracy_nb_hu = round(accuracy_score(y_test_h, pred_nb_hu),2)\n"
   ]
  },
  {
   "cell_type": "code",
   "execution_count": 31,
   "metadata": {},
   "outputs": [
    {
     "name": "stdout",
     "output_type": "stream",
     "text": [
      "Test Score for Human (RF): 0.25\n",
      " Accuracy of most-predicted (dog) family: 0.194\n",
      "Test Data Model Score for Humans (logistic Regression): 0.18\n",
      " Accuracy of most-predicted (dog) family (logistic Regression): 0.11\n",
      "Test Data Model Score for Humans (Naive Bayes): 0.2\n",
      " Accuracy of most-predicted (dog) family (Naive Bayes): 0.11\n"
     ]
    }
   ],
   "source": [
    "print(f'Test Score for Human (RF): {hu_rf}')\n",
    "print(f' Accuracy of most-predicted (dog) family: {round(accuracy_maxed_pred_rf,3)}')\n",
    "\n",
    "print(f'Test Data Model Score for Humans (logistic Regression): {hu_lr}')\n",
    "print(f' Accuracy of most-predicted (dog) family (logistic Regression): {round(accuracy_maxed_pred_logisticR_dog,2)}')\n",
    "\n",
    "print(f'Test Data Model Score for Humans (Naive Bayes): {accuracy_nb_hu}')\n",
    "print(f' Accuracy of most-predicted (dog) family (Naive Bayes): {round(accuracy_maxed_pred_logisticR_dog,2)}')"
   ]
  },
  {
   "cell_type": "code",
   "execution_count": null,
   "metadata": {},
   "outputs": [],
   "source": []
  }
 ],
 "metadata": {
  "kernelspec": {
   "display_name": "Python 3",
   "language": "python",
   "name": "python3"
  },
  "language_info": {
   "codemirror_mode": {
    "name": "ipython",
    "version": 3
   },
   "file_extension": ".py",
   "mimetype": "text/x-python",
   "name": "python",
   "nbconvert_exporter": "python",
   "pygments_lexer": "ipython3",
   "version": "3.7.3"
  }
 },
 "nbformat": 4,
 "nbformat_minor": 2
}
