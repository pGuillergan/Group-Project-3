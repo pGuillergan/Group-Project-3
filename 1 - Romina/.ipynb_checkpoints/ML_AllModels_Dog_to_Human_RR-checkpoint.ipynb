{
 "cells": [
  {
   "cell_type": "code",
   "execution_count": 1,
   "metadata": {},
   "outputs": [],
   "source": [
    "\n",
    "import pandas as pd\n",
    "import numpy as np\n",
    "import os\n",
    "import matplotlib.pyplot as plt\n",
    "\n",
    "from sklearn import tree\n",
    "from sklearn.ensemble import RandomForestClassifier\n",
    "from sklearn.model_selection import validation_curve\n",
    "\n",
    "from sklearn.model_selection import train_test_split\n",
    "from sklearn.metrics import confusion_matrix"
   ]
  },
  {
   "cell_type": "code",
   "execution_count": 2,
   "metadata": {},
   "outputs": [
    {
     "data": {
      "text/html": [
       "<div>\n",
       "<style scoped>\n",
       "    .dataframe tbody tr th:only-of-type {\n",
       "        vertical-align: middle;\n",
       "    }\n",
       "\n",
       "    .dataframe tbody tr th {\n",
       "        vertical-align: top;\n",
       "    }\n",
       "\n",
       "    .dataframe thead th {\n",
       "        text-align: right;\n",
       "    }\n",
       "</style>\n",
       "<table border=\"1\" class=\"dataframe\">\n",
       "  <thead>\n",
       "    <tr style=\"text-align: right;\">\n",
       "      <th></th>\n",
       "      <th>sample_name</th>\n",
       "      <th>age</th>\n",
       "      <th>age_in_years</th>\n",
       "      <th>age_units</th>\n",
       "      <th>agegroup</th>\n",
       "      <th>anonymized_name</th>\n",
       "      <th>body_habitat</th>\n",
       "      <th>body_product</th>\n",
       "      <th>body_site</th>\n",
       "      <th>collection_timestamp</th>\n",
       "      <th>...</th>\n",
       "      <th>k__Bacteria; p__Firmicutes; c__Erysipelotrichi; o__Erysipelotrichales; f__Erysipelotrichaceae; g__; s__.7</th>\n",
       "      <th>k__Bacteria; p__Bacteroidetes; c__Bacteroidia; o__Bacteroidales; f__[Odoribacteraceae]; g__Odoribacter; s__.1</th>\n",
       "      <th>k__Bacteria; p__Bacteroidetes; c__Bacteroidia; o__Bacteroidales; f__Prevotellaceae; g__Prevotella; s__intermedia</th>\n",
       "      <th>k__Bacteria; p__Firmicutes; c__Bacilli; o__Lactobacillales; f__Streptococcaceae; g__Streptococcus; s__.41</th>\n",
       "      <th>k__Bacteria; p__Cyanobacteria; c__Chloroplast; o__Streptophyta; f__; g__; s__.6</th>\n",
       "      <th>k__Bacteria; p__Bacteroidetes; c__Bacteroidia; o__Bacteroidales; f__Bacteroidaceae; g__Bacteroides; s__.54</th>\n",
       "      <th>k__Bacteria; p__Bacteroidetes; c__Bacteroidia; o__Bacteroidales; f__Prevotellaceae; g__Prevotella; s__.23</th>\n",
       "      <th>k__Bacteria; p__Bacteroidetes; c__Bacteroidia; o__Bacteroidales; f__Bacteroidaceae; g__Bacteroides; s__.55</th>\n",
       "      <th>k__Bacteria; p__Actinobacteria; c__Actinobacteria; o__Actinomycetales; f__Propionibacteriaceae; g__Propionibacterium; s__granulosum</th>\n",
       "      <th>have_dog</th>\n",
       "    </tr>\n",
       "  </thead>\n",
       "  <tbody>\n",
       "    <tr>\n",
       "      <th>0</th>\n",
       "      <td>797.02.HA.Forehead</td>\n",
       "      <td>1</td>\n",
       "      <td>1</td>\n",
       "      <td>years</td>\n",
       "      <td>Adolescent</td>\n",
       "      <td>FS_01</td>\n",
       "      <td>UBERON:skin</td>\n",
       "      <td>UBERON:sebum</td>\n",
       "      <td>UBERON:face</td>\n",
       "      <td>4/6/2010</td>\n",
       "      <td>...</td>\n",
       "      <td>0</td>\n",
       "      <td>0</td>\n",
       "      <td>0</td>\n",
       "      <td>0</td>\n",
       "      <td>0</td>\n",
       "      <td>0</td>\n",
       "      <td>0</td>\n",
       "      <td>0</td>\n",
       "      <td>0</td>\n",
       "      <td>no</td>\n",
       "    </tr>\n",
       "  </tbody>\n",
       "</table>\n",
       "<p>1 rows × 1088 columns</p>\n",
       "</div>"
      ],
      "text/plain": [
       "          sample_name age age_in_years age_units    agegroup anonymized_name  \\\n",
       "0  797.02.HA.Forehead   1            1     years  Adolescent           FS_01   \n",
       "\n",
       "  body_habitat  body_product    body_site collection_timestamp    ...     \\\n",
       "0  UBERON:skin  UBERON:sebum  UBERON:face             4/6/2010    ...      \n",
       "\n",
       "  k__Bacteria; p__Firmicutes; c__Erysipelotrichi; o__Erysipelotrichales; f__Erysipelotrichaceae; g__; s__.7  \\\n",
       "0                                                  0                                                          \n",
       "\n",
       "  k__Bacteria; p__Bacteroidetes; c__Bacteroidia; o__Bacteroidales; f__[Odoribacteraceae]; g__Odoribacter; s__.1  \\\n",
       "0                                                  0                                                              \n",
       "\n",
       "   k__Bacteria; p__Bacteroidetes; c__Bacteroidia; o__Bacteroidales; f__Prevotellaceae; g__Prevotella; s__intermedia  \\\n",
       "0                                                  0                                                                  \n",
       "\n",
       "  k__Bacteria; p__Firmicutes; c__Bacilli; o__Lactobacillales; f__Streptococcaceae; g__Streptococcus; s__.41  \\\n",
       "0                                                  0                                                          \n",
       "\n",
       "   k__Bacteria; p__Cyanobacteria; c__Chloroplast; o__Streptophyta; f__; g__; s__.6  \\\n",
       "0                                                  0                                 \n",
       "\n",
       "  k__Bacteria; p__Bacteroidetes; c__Bacteroidia; o__Bacteroidales; f__Bacteroidaceae; g__Bacteroides; s__.54  \\\n",
       "0                                                  0                                                           \n",
       "\n",
       "  k__Bacteria; p__Bacteroidetes; c__Bacteroidia; o__Bacteroidales; f__Prevotellaceae; g__Prevotella; s__.23  \\\n",
       "0                                                  0                                                          \n",
       "\n",
       "  k__Bacteria; p__Bacteroidetes; c__Bacteroidia; o__Bacteroidales; f__Bacteroidaceae; g__Bacteroides; s__.55  \\\n",
       "0                                                  0                                                           \n",
       "\n",
       "  k__Bacteria; p__Actinobacteria; c__Actinobacteria; o__Actinomycetales; f__Propionibacteriaceae; g__Propionibacterium; s__granulosum  \\\n",
       "0                                                  0                                                                                    \n",
       "\n",
       "   have_dog  \n",
       "0        no  \n",
       "\n",
       "[1 rows x 1088 columns]"
      ]
     },
     "execution_count": 2,
     "metadata": {},
     "output_type": "execute_result"
    }
   ],
   "source": [
    "mergedf = pd.read_csv('DB_CSV_merged_v1.csv', low_memory=False)\n",
    "\n",
    "mergedf = mergedf.drop(\"Unnamed: 0\", axis=1)\n",
    "mergedf.head(1)"
   ]
  },
  {
   "cell_type": "markdown",
   "metadata": {},
   "source": [
    "# Filtering Train and Test Datasets"
   ]
  },
  {
   "cell_type": "code",
   "execution_count": 3,
   "metadata": {},
   "outputs": [],
   "source": [
    "#FILTER 1\n",
    "# have_dog = \"only_non_dog_owners\"\n",
    "\n",
    "#FILTER 2\n",
    "# sample_type = \"skin\"\n",
    "# sample_type = \"all\"\n",
    "# #FILTER 3\n",
    "# # not_sample_type = \"stool\"\n",
    "\n",
    "# # #FILTER 4\n",
    "# # human_role = \"Partner\"\n",
    "# human_role = \"all\"\n",
    "# #FILTER 5\n",
    "# not_human_role = \"Offspring\"\n",
    "\n",
    "#FILTER 6\n",
    "# not_familyID = 63"
   ]
  },
  {
   "cell_type": "markdown",
   "metadata": {},
   "source": [
    "# SPLITTING TRAIN and TEST (test = dogs, train = humans)"
   ]
  },
  {
   "cell_type": "code",
   "execution_count": 4,
   "metadata": {
    "scrolled": true
   },
   "outputs": [
    {
     "data": {
      "text/html": [
       "<div>\n",
       "<style scoped>\n",
       "    .dataframe tbody tr th:only-of-type {\n",
       "        vertical-align: middle;\n",
       "    }\n",
       "\n",
       "    .dataframe tbody tr th {\n",
       "        vertical-align: top;\n",
       "    }\n",
       "\n",
       "    .dataframe thead th {\n",
       "        text-align: right;\n",
       "    }\n",
       "</style>\n",
       "<table border=\"1\" class=\"dataframe\">\n",
       "  <thead>\n",
       "    <tr style=\"text-align: right;\">\n",
       "      <th></th>\n",
       "      <th>sample_name</th>\n",
       "      <th>age</th>\n",
       "      <th>age_in_years</th>\n",
       "      <th>age_units</th>\n",
       "      <th>agegroup</th>\n",
       "      <th>anonymized_name</th>\n",
       "      <th>body_habitat</th>\n",
       "      <th>body_product</th>\n",
       "      <th>body_site</th>\n",
       "      <th>collection_timestamp</th>\n",
       "      <th>...</th>\n",
       "      <th>k__Bacteria; p__Firmicutes; c__Erysipelotrichi; o__Erysipelotrichales; f__Erysipelotrichaceae; g__; s__.7</th>\n",
       "      <th>k__Bacteria; p__Bacteroidetes; c__Bacteroidia; o__Bacteroidales; f__[Odoribacteraceae]; g__Odoribacter; s__.1</th>\n",
       "      <th>k__Bacteria; p__Bacteroidetes; c__Bacteroidia; o__Bacteroidales; f__Prevotellaceae; g__Prevotella; s__intermedia</th>\n",
       "      <th>k__Bacteria; p__Firmicutes; c__Bacilli; o__Lactobacillales; f__Streptococcaceae; g__Streptococcus; s__.41</th>\n",
       "      <th>k__Bacteria; p__Cyanobacteria; c__Chloroplast; o__Streptophyta; f__; g__; s__.6</th>\n",
       "      <th>k__Bacteria; p__Bacteroidetes; c__Bacteroidia; o__Bacteroidales; f__Bacteroidaceae; g__Bacteroides; s__.54</th>\n",
       "      <th>k__Bacteria; p__Bacteroidetes; c__Bacteroidia; o__Bacteroidales; f__Prevotellaceae; g__Prevotella; s__.23</th>\n",
       "      <th>k__Bacteria; p__Bacteroidetes; c__Bacteroidia; o__Bacteroidales; f__Bacteroidaceae; g__Bacteroides; s__.55</th>\n",
       "      <th>k__Bacteria; p__Actinobacteria; c__Actinobacteria; o__Actinomycetales; f__Propionibacteriaceae; g__Propionibacterium; s__granulosum</th>\n",
       "      <th>have_dog</th>\n",
       "    </tr>\n",
       "  </thead>\n",
       "  <tbody>\n",
       "    <tr>\n",
       "      <th>20</th>\n",
       "      <td>797.03.CA.BackLeftPaw</td>\n",
       "      <td>Not recorded</td>\n",
       "      <td>Not recorded</td>\n",
       "      <td>years</td>\n",
       "      <td>Not recorded</td>\n",
       "      <td>FS_175</td>\n",
       "      <td>UBERON:skin</td>\n",
       "      <td>UBERON:sebum</td>\n",
       "      <td>UBERON:foot skin</td>\n",
       "      <td>2/10/2010</td>\n",
       "      <td>...</td>\n",
       "      <td>0</td>\n",
       "      <td>0</td>\n",
       "      <td>0</td>\n",
       "      <td>0</td>\n",
       "      <td>0</td>\n",
       "      <td>0</td>\n",
       "      <td>0</td>\n",
       "      <td>0</td>\n",
       "      <td>0</td>\n",
       "      <td>yes</td>\n",
       "    </tr>\n",
       "  </tbody>\n",
       "</table>\n",
       "<p>1 rows × 1088 columns</p>\n",
       "</div>"
      ],
      "text/plain": [
       "              sample_name           age  age_in_years age_units      agegroup  \\\n",
       "20  797.03.CA.BackLeftPaw  Not recorded  Not recorded     years  Not recorded   \n",
       "\n",
       "   anonymized_name body_habitat  body_product         body_site  \\\n",
       "20          FS_175  UBERON:skin  UBERON:sebum  UBERON:foot skin   \n",
       "\n",
       "   collection_timestamp    ...     \\\n",
       "20            2/10/2010    ...      \n",
       "\n",
       "   k__Bacteria; p__Firmicutes; c__Erysipelotrichi; o__Erysipelotrichales; f__Erysipelotrichaceae; g__; s__.7  \\\n",
       "20                                                  0                                                          \n",
       "\n",
       "   k__Bacteria; p__Bacteroidetes; c__Bacteroidia; o__Bacteroidales; f__[Odoribacteraceae]; g__Odoribacter; s__.1  \\\n",
       "20                                                  0                                                              \n",
       "\n",
       "    k__Bacteria; p__Bacteroidetes; c__Bacteroidia; o__Bacteroidales; f__Prevotellaceae; g__Prevotella; s__intermedia  \\\n",
       "20                                                  0                                                                  \n",
       "\n",
       "   k__Bacteria; p__Firmicutes; c__Bacilli; o__Lactobacillales; f__Streptococcaceae; g__Streptococcus; s__.41  \\\n",
       "20                                                  0                                                          \n",
       "\n",
       "    k__Bacteria; p__Cyanobacteria; c__Chloroplast; o__Streptophyta; f__; g__; s__.6  \\\n",
       "20                                                  0                                 \n",
       "\n",
       "   k__Bacteria; p__Bacteroidetes; c__Bacteroidia; o__Bacteroidales; f__Bacteroidaceae; g__Bacteroides; s__.54  \\\n",
       "20                                                  0                                                           \n",
       "\n",
       "   k__Bacteria; p__Bacteroidetes; c__Bacteroidia; o__Bacteroidales; f__Prevotellaceae; g__Prevotella; s__.23  \\\n",
       "20                                                  0                                                          \n",
       "\n",
       "   k__Bacteria; p__Bacteroidetes; c__Bacteroidia; o__Bacteroidales; f__Bacteroidaceae; g__Bacteroides; s__.55  \\\n",
       "20                                                  0                                                           \n",
       "\n",
       "   k__Bacteria; p__Actinobacteria; c__Actinobacteria; o__Actinomycetales; f__Propionibacteriaceae; g__Propionibacterium; s__granulosum  \\\n",
       "20                                                  0                                                                                    \n",
       "\n",
       "    have_dog  \n",
       "20       yes  \n",
       "\n",
       "[1 rows x 1088 columns]"
      ]
     },
     "execution_count": 4,
     "metadata": {},
     "output_type": "execute_result"
    }
   ],
   "source": [
    "human_data_train = mergedf[mergedf.host_common_name ==\"human\"]\n",
    "\n",
    "dog_data_test = mergedf[mergedf.host_common_name ==\"dog\"]\n",
    "dog_data_test.head(1)"
   ]
  },
  {
   "cell_type": "code",
   "execution_count": 6,
   "metadata": {
    "scrolled": true
   },
   "outputs": [
    {
     "name": "stdout",
     "output_type": "stream",
     "text": [
      "no filter here 1\n",
      "(837, 1088)\n",
      "no filter here 2\n",
      "(837, 1088)\n",
      "no filter here 4\n",
      "(837, 1088)\n"
     ]
    }
   ],
   "source": [
    "# Applying filters above\n",
    "try:\n",
    "    if have_dog == \"only_dog_owners\":\n",
    "        human_data_train = human_data_train[human_data_train.have_dog ==\"yes\"]\n",
    "    \n",
    "    elif have_dog == \"only_non_dog_owners\":\n",
    "        human_data_train = human_data_train[human_data_train.have_dog ==\"no\"]\n",
    "    elif have_dog == \"all\":\n",
    "        human_data_train = human_data_train\n",
    "    else:\n",
    "        human_data_train = human_data_train\n",
    "except:\n",
    "    print(\"no filter here 1\")\n",
    "print(human_data_train.shape)\n",
    "\n",
    "try:    \n",
    "    if sample_type!= \"all\":\n",
    "        human_data_train = human_data_train[human_data_train.sample_type ==sample_type]\n",
    "        dog_data_test = dog_data_test[dog_data_test.sample_type ==sample_type]\n",
    "    elif sample_type == \"all\":\n",
    "        human_data_train = human_data_train\n",
    "        dog_data_test = dog_data_test\n",
    "    else:\n",
    "        human_data_train = human_data_train\n",
    "        dog_data_test = dog_data_test\n",
    "except:\n",
    "    print(\"no filter here 2\")\n",
    "print(human_data_train.shape)  \n",
    "\n",
    "# try:    \n",
    "#     if not_sample_type:\n",
    "#         human_data_train = human_data_train[human_data_train.sample_type !=not_sample_type]\n",
    "#         dog_data_test = dog_data_test[dog_data_test.sample_type !=not_sample_type]\n",
    "#     elif sample_type == \"all\":\n",
    "#         human_data_train = human_data_train\n",
    "#         dog_data_test = dog_data_test\n",
    "# except:\n",
    "#     print(\"no filter here 3\")\n",
    "    \n",
    "try:    \n",
    "    if human_role != \"all\":\n",
    "        human_data_train = human_data_train[human_data_train.role ==human_role]\n",
    "    elif human_role == \"all\":\n",
    "        human_data_train = human_data_train\n",
    "    else:\n",
    "        human_data_train = human_data_train\n",
    "except:\n",
    "    print(\"no filter here 4\")\n",
    "print(human_data_train.shape)    "
   ]
  },
  {
   "cell_type": "markdown",
   "metadata": {},
   "source": [
    "# Train/test split"
   ]
  },
  {
   "cell_type": "code",
   "execution_count": 7,
   "metadata": {},
   "outputs": [],
   "source": [
    "X_train = human_data_train.iloc[:, -1035:-1]\n",
    "y_train = human_data_train[\"familyID\"].values.reshape(-1, 1)\n",
    "\n",
    "y_test = dog_data_test[\"familyID\"].values.reshape(-1, 1)\n",
    "X_test = dog_data_test.iloc[:, -1035:-1]"
   ]
  },
  {
   "cell_type": "markdown",
   "metadata": {},
   "source": [
    "# Hyperparameter Selection"
   ]
  },
  {
   "cell_type": "code",
   "execution_count": 8,
   "metadata": {},
   "outputs": [],
   "source": [
    "n_estimators = 1000\n",
    "\n",
    "from sklearn.ensemble import RandomForestClassifier\n",
    "rf = RandomForestClassifier(n_estimators=n_estimators)"
   ]
  },
  {
   "cell_type": "markdown",
   "metadata": {},
   "source": [
    "# Non-Scaled Model Fitting"
   ]
  },
  {
   "cell_type": "code",
   "execution_count": 9,
   "metadata": {},
   "outputs": [
    {
     "name": "stdout",
     "output_type": "stream",
     "text": [
      "Test Score: 0.13615023474178403\n",
      "Train Score: 1.0\n"
     ]
    }
   ],
   "source": [
    "#from non-scaled data\n",
    "rf = rf.fit(X_train, y_train.ravel())\n",
    "rf.score(X_test, y_test) #geni impurity coefficient\n",
    "\n",
    "print(f'Test Score: {rf.score(X_test, y_test)}')\n",
    "print(f'Train Score: {rf.score(X_train, y_train)}')"
   ]
  },
  {
   "cell_type": "markdown",
   "metadata": {},
   "source": [
    "# Scaled X Model Fitting"
   ]
  },
  {
   "cell_type": "code",
   "execution_count": 10,
   "metadata": {},
   "outputs": [],
   "source": [
    "# from sklearn.preprocessing import StandardScaler\n",
    "# X_scaler = StandardScaler().fit(X_train)\n",
    "\n",
    "# X_train_scaled = X_scaler.transform(X_train)\n",
    "# X_test_scaled = X_scaler.transform(X_test)"
   ]
  },
  {
   "cell_type": "code",
   "execution_count": 11,
   "metadata": {},
   "outputs": [],
   "source": [
    "# # from scaled data\n",
    "# rf_scaled = RandomForestClassifier(n_estimators=n_estimators)\n",
    "# rf_scaled = rf_scaled.fit(X_train_scaled, y_train.ravel())\n",
    "# rf_scaled.score(X_test_scaled, y_test) #geni impurity coefficient\n",
    "\n",
    "# print(f'Test Score: {rf_scaled.score(X_test_scaled, y_test)}')\n",
    "# print(f'Train Score: {rf_scaled.score(X_train_scaled, y_train)}')"
   ]
  },
  {
   "cell_type": "markdown",
   "metadata": {},
   "source": [
    "# Evaluate most-guessed family for each dog (7 collection site/predictions per animal) ==> 1 prediction"
   ]
  },
  {
   "cell_type": "code",
   "execution_count": 12,
   "metadata": {},
   "outputs": [
    {
     "name": "stdout",
     "output_type": "stream",
     "text": [
      "(213, 4)\n"
     ]
    },
    {
     "data": {
      "text/html": [
       "<div>\n",
       "<style scoped>\n",
       "    .dataframe tbody tr th:only-of-type {\n",
       "        vertical-align: middle;\n",
       "    }\n",
       "\n",
       "    .dataframe tbody tr th {\n",
       "        vertical-align: top;\n",
       "    }\n",
       "\n",
       "    .dataframe thead th {\n",
       "        text-align: right;\n",
       "    }\n",
       "</style>\n",
       "<table border=\"1\" class=\"dataframe\">\n",
       "  <thead>\n",
       "    <tr style=\"text-align: right;\">\n",
       "      <th></th>\n",
       "      <th>SampleName</th>\n",
       "      <th>Anonymized_Name</th>\n",
       "      <th>Prediction</th>\n",
       "      <th>Actual</th>\n",
       "    </tr>\n",
       "  </thead>\n",
       "  <tbody>\n",
       "    <tr>\n",
       "      <th>0</th>\n",
       "      <td>797.03.CA.BackLeftPaw</td>\n",
       "      <td>FS_175</td>\n",
       "      <td>family#5</td>\n",
       "      <td>family#3</td>\n",
       "    </tr>\n",
       "    <tr>\n",
       "      <th>1</th>\n",
       "      <td>797.03.CA.BackRightPaw</td>\n",
       "      <td>FS_175</td>\n",
       "      <td>family#5</td>\n",
       "      <td>family#3</td>\n",
       "    </tr>\n",
       "    <tr>\n",
       "      <th>2</th>\n",
       "      <td>797.03.CA.Forehead</td>\n",
       "      <td>FS_175</td>\n",
       "      <td>family#5</td>\n",
       "      <td>family#3</td>\n",
       "    </tr>\n",
       "    <tr>\n",
       "      <th>3</th>\n",
       "      <td>797.03.CA.FrontRightPaw</td>\n",
       "      <td>FS_175</td>\n",
       "      <td>family#5</td>\n",
       "      <td>family#3</td>\n",
       "    </tr>\n",
       "    <tr>\n",
       "      <th>4</th>\n",
       "      <td>797.03.CA.Stool</td>\n",
       "      <td>FS_175</td>\n",
       "      <td>family#7</td>\n",
       "      <td>family#3</td>\n",
       "    </tr>\n",
       "  </tbody>\n",
       "</table>\n",
       "</div>"
      ],
      "text/plain": [
       "                SampleName Anonymized_Name Prediction    Actual\n",
       "0    797.03.CA.BackLeftPaw          FS_175   family#5  family#3\n",
       "1   797.03.CA.BackRightPaw          FS_175   family#5  family#3\n",
       "2       797.03.CA.Forehead          FS_175   family#5  family#3\n",
       "3  797.03.CA.FrontRightPaw          FS_175   family#5  family#3\n",
       "4          797.03.CA.Stool          FS_175   family#7  family#3"
      ]
     },
     "execution_count": 12,
     "metadata": {},
     "output_type": "execute_result"
    }
   ],
   "source": [
    "y_pred = rf.predict(X_test)\n",
    "\n",
    "outputdf = pd.DataFrame({\"SampleName\": dog_data_test[\"sample_name\"],\"Anonymized_Name\":dog_data_test[\"anonymized_name\"],\"Prediction\": y_pred, \"Actual\": y_test.ravel()}).reset_index(drop=True)\n",
    "print(outputdf.shape)\n",
    "outputdf.head()"
   ]
  },
  {
   "cell_type": "code",
   "execution_count": 13,
   "metadata": {},
   "outputs": [
    {
     "data": {
      "text/html": [
       "<div>\n",
       "<style scoped>\n",
       "    .dataframe tbody tr th:only-of-type {\n",
       "        vertical-align: middle;\n",
       "    }\n",
       "\n",
       "    .dataframe tbody tr th {\n",
       "        vertical-align: top;\n",
       "    }\n",
       "\n",
       "    .dataframe thead th {\n",
       "        text-align: right;\n",
       "    }\n",
       "</style>\n",
       "<table border=\"1\" class=\"dataframe\">\n",
       "  <thead>\n",
       "    <tr style=\"text-align: right;\">\n",
       "      <th></th>\n",
       "      <th></th>\n",
       "      <th></th>\n",
       "      <th>SampleName</th>\n",
       "    </tr>\n",
       "    <tr>\n",
       "      <th>Anonymized_Name</th>\n",
       "      <th>Actual</th>\n",
       "      <th>Prediction</th>\n",
       "      <th></th>\n",
       "    </tr>\n",
       "  </thead>\n",
       "  <tbody>\n",
       "    <tr>\n",
       "      <th rowspan=\"3\" valign=\"top\">FS_175</th>\n",
       "      <th rowspan=\"3\" valign=\"top\">family#3</th>\n",
       "      <th>family#5</th>\n",
       "      <td>4</td>\n",
       "    </tr>\n",
       "    <tr>\n",
       "      <th>family#7</th>\n",
       "      <td>1</td>\n",
       "    </tr>\n",
       "    <tr>\n",
       "      <th>family#71</th>\n",
       "      <td>1</td>\n",
       "    </tr>\n",
       "    <tr>\n",
       "      <th rowspan=\"2\" valign=\"top\">FS_176</th>\n",
       "      <th rowspan=\"2\" valign=\"top\">family#6</th>\n",
       "      <th>family#5</th>\n",
       "      <td>1</td>\n",
       "    </tr>\n",
       "    <tr>\n",
       "      <th>family#50</th>\n",
       "      <td>2</td>\n",
       "    </tr>\n",
       "  </tbody>\n",
       "</table>\n",
       "</div>"
      ],
      "text/plain": [
       "                                     SampleName\n",
       "Anonymized_Name Actual   Prediction            \n",
       "FS_175          family#3 family#5             4\n",
       "                         family#7             1\n",
       "                         family#71            1\n",
       "FS_176          family#6 family#5             1\n",
       "                         family#50            2"
      ]
     },
     "execution_count": 13,
     "metadata": {},
     "output_type": "execute_result"
    }
   ],
   "source": [
    "sumOutput = outputdf.groupby([\"Anonymized_Name\",\"Actual\",\"Prediction\"]).count()\n",
    "sumOutput.reset_index()\n",
    "sumOutput.head()"
   ]
  },
  {
   "cell_type": "code",
   "execution_count": 14,
   "metadata": {
    "scrolled": true
   },
   "outputs": [
    {
     "name": "stdout",
     "output_type": "stream",
     "text": [
      "(60, 4)\n"
     ]
    }
   ],
   "source": [
    "# sumOutput.groupby([\"Anonymized_Name\"])['SampleName'].max()\n",
    "idx = sumOutput.groupby([\"Anonymized_Name\"])['SampleName'].transform(max) == sumOutput['SampleName']\n",
    "maxOutput = sumOutput[idx]\n",
    "maxOutput = maxOutput.reset_index()\n",
    "print(maxOutput.shape)\n",
    "# maxOutput"
   ]
  },
  {
   "cell_type": "code",
   "execution_count": 15,
   "metadata": {
    "scrolled": true
   },
   "outputs": [
    {
     "name": "stdout",
     "output_type": "stream",
     "text": [
      "(36, 4)\n"
     ]
    }
   ],
   "source": [
    "maxOutput_noDup = maxOutput.drop_duplicates(subset=['Anonymized_Name'], keep=\"first\")\n",
    "print(maxOutput_noDup.shape)\n",
    "# maxOutput_noDup"
   ]
  },
  {
   "cell_type": "code",
   "execution_count": 16,
   "metadata": {},
   "outputs": [
    {
     "name": "stdout",
     "output_type": "stream",
     "text": [
      "(8, 4)\n"
     ]
    }
   ],
   "source": [
    "maxOutput_C = maxOutput_noDup[maxOutput_noDup.Actual == maxOutput_noDup.Prediction]\n",
    "\n",
    "print(maxOutput_C.shape)\n",
    "# maxOutput_C"
   ]
  },
  {
   "cell_type": "code",
   "execution_count": 17,
   "metadata": {
    "scrolled": true
   },
   "outputs": [
    {
     "name": "stdout",
     "output_type": "stream",
     "text": [
      "(28, 4)\n"
     ]
    }
   ],
   "source": [
    "maxOutput_I = maxOutput_noDup[maxOutput_noDup.Actual != maxOutput_noDup.Prediction]\n",
    "\n",
    "print(maxOutput_I.shape)\n",
    "# maxOutput_I"
   ]
  },
  {
   "cell_type": "code",
   "execution_count": 18,
   "metadata": {},
   "outputs": [
    {
     "name": "stdout",
     "output_type": "stream",
     "text": [
      " Accuracy of most-predicted (dog) family: 0.222\n"
     ]
    }
   ],
   "source": [
    "correct_total = maxOutput_C[\"Anonymized_Name\"].count()\n",
    "incorrect_total = maxOutput_I[\"Anonymized_Name\"].count()\n",
    "\n",
    "accuracy_maxed_pred_rf = correct_total/(correct_total + incorrect_total)\n",
    "print(f' Accuracy of most-predicted (dog) family: {round(accuracy_maxed_pred_rf,3)}')"
   ]
  },
  {
   "cell_type": "markdown",
   "metadata": {},
   "source": [
    "# LOGISTIC REGRESSION"
   ]
  },
  {
   "cell_type": "code",
   "execution_count": 19,
   "metadata": {},
   "outputs": [],
   "source": [
    "from sklearn.preprocessing import StandardScaler\n",
    "X_scaler = StandardScaler().fit(X_train)\n",
    "\n",
    "X_train_scaled = X_scaler.transform(X_train)\n",
    "X_test_scaled = X_scaler.transform(X_test)"
   ]
  },
  {
   "cell_type": "code",
   "execution_count": 20,
   "metadata": {},
   "outputs": [
    {
     "data": {
      "text/plain": [
       "LogisticRegression(C=1.0, class_weight=None, dual=False, fit_intercept=True,\n",
       "                   intercept_scaling=1, l1_ratio=None, max_iter=100,\n",
       "                   multi_class='auto', n_jobs=None, penalty='l2',\n",
       "                   random_state=None, solver='lbfgs', tol=0.0001, verbose=0,\n",
       "                   warm_start=False)"
      ]
     },
     "execution_count": 20,
     "metadata": {},
     "output_type": "execute_result"
    }
   ],
   "source": [
    "from sklearn.linear_model import LogisticRegression\n",
    "classifier = LogisticRegression()\n",
    "classifier"
   ]
  },
  {
   "cell_type": "code",
   "execution_count": 21,
   "metadata": {},
   "outputs": [
    {
     "name": "stdout",
     "output_type": "stream",
     "text": [
      "Test Data Model Score: 0.1\n"
     ]
    },
    {
     "name": "stderr",
     "output_type": "stream",
     "text": [
      "C:\\Users\\Romina\\Anaconda3\\lib\\site-packages\\sklearn\\linear_model\\_logistic.py:940: ConvergenceWarning: lbfgs failed to converge (status=1):\n",
      "STOP: TOTAL NO. of ITERATIONS REACHED LIMIT.\n",
      "\n",
      "Increase the number of iterations (max_iter) or scale the data as shown in:\n",
      "    https://scikit-learn.org/stable/modules/preprocessing.html\n",
      "Please also refer to the documentation for alternative solver options:\n",
      "    https://scikit-learn.org/stable/modules/linear_model.html#logistic-regression\n",
      "  extra_warning_msg=_LOGISTIC_SOLVER_CONVERGENCE_MSG)\n"
     ]
    }
   ],
   "source": [
    "model = classifier.fit(X_train_scaled, y_train.ravel())\n",
    "print(f'Test Data Model Score: {round(classifier.score(X_test_scaled, y_test),2)}')"
   ]
  },
  {
   "cell_type": "code",
   "execution_count": 22,
   "metadata": {},
   "outputs": [
    {
     "name": "stdout",
     "output_type": "stream",
     "text": [
      "(213, 4)\n"
     ]
    },
    {
     "data": {
      "text/html": [
       "<div>\n",
       "<style scoped>\n",
       "    .dataframe tbody tr th:only-of-type {\n",
       "        vertical-align: middle;\n",
       "    }\n",
       "\n",
       "    .dataframe tbody tr th {\n",
       "        vertical-align: top;\n",
       "    }\n",
       "\n",
       "    .dataframe thead th {\n",
       "        text-align: right;\n",
       "    }\n",
       "</style>\n",
       "<table border=\"1\" class=\"dataframe\">\n",
       "  <thead>\n",
       "    <tr style=\"text-align: right;\">\n",
       "      <th></th>\n",
       "      <th>SampleName</th>\n",
       "      <th>Anonymized_Name</th>\n",
       "      <th>Prediction</th>\n",
       "      <th>Actual</th>\n",
       "    </tr>\n",
       "  </thead>\n",
       "  <tbody>\n",
       "    <tr>\n",
       "      <th>0</th>\n",
       "      <td>797.03.CA.BackLeftPaw</td>\n",
       "      <td>FS_175</td>\n",
       "      <td>family#55</td>\n",
       "      <td>family#3</td>\n",
       "    </tr>\n",
       "    <tr>\n",
       "      <th>1</th>\n",
       "      <td>797.03.CA.BackRightPaw</td>\n",
       "      <td>FS_175</td>\n",
       "      <td>family#55</td>\n",
       "      <td>family#3</td>\n",
       "    </tr>\n",
       "    <tr>\n",
       "      <th>2</th>\n",
       "      <td>797.03.CA.Forehead</td>\n",
       "      <td>FS_175</td>\n",
       "      <td>family#71</td>\n",
       "      <td>family#3</td>\n",
       "    </tr>\n",
       "    <tr>\n",
       "      <th>3</th>\n",
       "      <td>797.03.CA.FrontRightPaw</td>\n",
       "      <td>FS_175</td>\n",
       "      <td>family#49</td>\n",
       "      <td>family#3</td>\n",
       "    </tr>\n",
       "    <tr>\n",
       "      <th>4</th>\n",
       "      <td>797.03.CA.Stool</td>\n",
       "      <td>FS_175</td>\n",
       "      <td>family#24</td>\n",
       "      <td>family#3</td>\n",
       "    </tr>\n",
       "  </tbody>\n",
       "</table>\n",
       "</div>"
      ],
      "text/plain": [
       "                SampleName Anonymized_Name Prediction    Actual\n",
       "0    797.03.CA.BackLeftPaw          FS_175  family#55  family#3\n",
       "1   797.03.CA.BackRightPaw          FS_175  family#55  family#3\n",
       "2       797.03.CA.Forehead          FS_175  family#71  family#3\n",
       "3  797.03.CA.FrontRightPaw          FS_175  family#49  family#3\n",
       "4          797.03.CA.Stool          FS_175  family#24  family#3"
      ]
     },
     "execution_count": 22,
     "metadata": {},
     "output_type": "execute_result"
    }
   ],
   "source": [
    "y_pred_logisticR = model.predict(X_test_scaled)\n",
    "\n",
    "outputdf = pd.DataFrame({\"SampleName\": dog_data_test[\"sample_name\"],\"Anonymized_Name\":dog_data_test[\"anonymized_name\"],\"Prediction\": y_pred_logisticR, \"Actual\": y_test.ravel()}).reset_index(drop=True)\n",
    "print(outputdf.shape)\n",
    "outputdf.head()"
   ]
  },
  {
   "cell_type": "code",
   "execution_count": 23,
   "metadata": {},
   "outputs": [
    {
     "data": {
      "text/html": [
       "<div>\n",
       "<style scoped>\n",
       "    .dataframe tbody tr th:only-of-type {\n",
       "        vertical-align: middle;\n",
       "    }\n",
       "\n",
       "    .dataframe tbody tr th {\n",
       "        vertical-align: top;\n",
       "    }\n",
       "\n",
       "    .dataframe thead th {\n",
       "        text-align: right;\n",
       "    }\n",
       "</style>\n",
       "<table border=\"1\" class=\"dataframe\">\n",
       "  <thead>\n",
       "    <tr style=\"text-align: right;\">\n",
       "      <th></th>\n",
       "      <th></th>\n",
       "      <th></th>\n",
       "      <th>SampleName</th>\n",
       "    </tr>\n",
       "    <tr>\n",
       "      <th>Anonymized_Name</th>\n",
       "      <th>Actual</th>\n",
       "      <th>Prediction</th>\n",
       "      <th></th>\n",
       "    </tr>\n",
       "  </thead>\n",
       "  <tbody>\n",
       "    <tr>\n",
       "      <th rowspan=\"4\" valign=\"top\">FS_175</th>\n",
       "      <th rowspan=\"4\" valign=\"top\">family#3</th>\n",
       "      <th>family#24</th>\n",
       "      <td>1</td>\n",
       "    </tr>\n",
       "    <tr>\n",
       "      <th>family#49</th>\n",
       "      <td>1</td>\n",
       "    </tr>\n",
       "    <tr>\n",
       "      <th>family#55</th>\n",
       "      <td>2</td>\n",
       "    </tr>\n",
       "    <tr>\n",
       "      <th>family#71</th>\n",
       "      <td>2</td>\n",
       "    </tr>\n",
       "    <tr>\n",
       "      <th>FS_176</th>\n",
       "      <th>family#6</th>\n",
       "      <th>family#2</th>\n",
       "      <td>1</td>\n",
       "    </tr>\n",
       "  </tbody>\n",
       "</table>\n",
       "</div>"
      ],
      "text/plain": [
       "                                     SampleName\n",
       "Anonymized_Name Actual   Prediction            \n",
       "FS_175          family#3 family#24            1\n",
       "                         family#49            1\n",
       "                         family#55            2\n",
       "                         family#71            2\n",
       "FS_176          family#6 family#2             1"
      ]
     },
     "execution_count": 23,
     "metadata": {},
     "output_type": "execute_result"
    }
   ],
   "source": [
    "sumOutput_logisticR = outputdf.groupby([\"Anonymized_Name\",\"Actual\",\"Prediction\"]).count()\n",
    "sumOutput_logisticR.reset_index()\n",
    "sumOutput_logisticR.head()"
   ]
  },
  {
   "cell_type": "code",
   "execution_count": 25,
   "metadata": {},
   "outputs": [
    {
     "name": "stdout",
     "output_type": "stream",
     "text": [
      "(97, 4)\n"
     ]
    }
   ],
   "source": [
    "# sumOutput.groupby([\"Anonymized_Name\"])['SampleName'].max()\n",
    "idx_logisticR = sumOutput_logisticR.groupby([\"Anonymized_Name\"])['SampleName'].transform(max) == sumOutput_logisticR['SampleName']\n",
    "maxOutput_logisticR = sumOutput_logisticR[idx_logisticR]\n",
    "maxOutput_logisticR = maxOutput_logisticR.reset_index()\n",
    "print(maxOutput_logisticR.shape)\n",
    "# maxOutput"
   ]
  },
  {
   "cell_type": "code",
   "execution_count": 26,
   "metadata": {},
   "outputs": [
    {
     "name": "stdout",
     "output_type": "stream",
     "text": [
      "(36, 4)\n",
      "(5, 4)\n",
      "(31, 4)\n"
     ]
    }
   ],
   "source": [
    "maxOutput_noDup_logisticR = maxOutput_logisticR.drop_duplicates(subset=['Anonymized_Name'], keep=\"first\")\n",
    "print(maxOutput_noDup_logisticR.shape)\n",
    "# maxOutput_noDup\n",
    "\n",
    "maxOutput_C_logisticR = maxOutput_noDup_logisticR[maxOutput_noDup_logisticR.Actual == maxOutput_noDup_logisticR.Prediction]\n",
    "\n",
    "print(maxOutput_C_logisticR.shape)\n",
    "# maxOutput_C\n",
    "\n",
    "maxOutput_I_logisticR = maxOutput_noDup_logisticR[maxOutput_noDup_logisticR.Actual != maxOutput_noDup_logisticR.Prediction]\n",
    "\n",
    "print(maxOutput_I_logisticR.shape)\n",
    "# maxOutput_I"
   ]
  },
  {
   "cell_type": "code",
   "execution_count": 27,
   "metadata": {},
   "outputs": [
    {
     "name": "stdout",
     "output_type": "stream",
     "text": [
      " Accuracy of most-predicted (dog) family: 0.139\n"
     ]
    }
   ],
   "source": [
    "correct_total_logisticR = maxOutput_C_logisticR[\"Anonymized_Name\"].count()\n",
    "incorrect_total_logisticR = maxOutput_I_logisticR[\"Anonymized_Name\"].count()\n",
    "\n",
    "accuracy_maxed_pred_logisticR = correct_total_logisticR/(correct_total_logisticR + incorrect_total_logisticR)\n",
    "print(f' Accuracy of most-predicted (dog) family: {round(accuracy_maxed_pred_logisticR,3)}')"
   ]
  },
  {
   "cell_type": "code",
   "execution_count": null,
   "metadata": {},
   "outputs": [],
   "source": []
  }
 ],
 "metadata": {
  "kernelspec": {
   "display_name": "Python 3",
   "language": "python",
   "name": "python3"
  },
  "language_info": {
   "codemirror_mode": {
    "name": "ipython",
    "version": 3
   },
   "file_extension": ".py",
   "mimetype": "text/x-python",
   "name": "python",
   "nbconvert_exporter": "python",
   "pygments_lexer": "ipython3",
   "version": "3.7.3"
  }
 },
 "nbformat": 4,
 "nbformat_minor": 2
}
