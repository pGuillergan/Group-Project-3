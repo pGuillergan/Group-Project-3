{
 "cells": [
  {
   "cell_type": "code",
   "execution_count": 1,
   "metadata": {},
   "outputs": [],
   "source": [
    "%matplotlib inline\n",
    "import pandas as pd\n",
    "import numpy as np\n",
    "import os\n",
    "import matplotlib.pyplot as plt\n",
    "\n",
    "from sklearn import tree\n",
    "from sklearn.ensemble import RandomForestClassifier\n",
    "from sklearn.model_selection import validation_curve\n",
    "\n",
    "from sklearn.model_selection import train_test_split\n",
    "from sklearn.metrics import confusion_matrix"
   ]
  },
  {
   "cell_type": "code",
   "execution_count": 2,
   "metadata": {},
   "outputs": [
    {
     "data": {
      "text/html": [
       "<div>\n",
       "<style scoped>\n",
       "    .dataframe tbody tr th:only-of-type {\n",
       "        vertical-align: middle;\n",
       "    }\n",
       "\n",
       "    .dataframe tbody tr th {\n",
       "        vertical-align: top;\n",
       "    }\n",
       "\n",
       "    .dataframe thead th {\n",
       "        text-align: right;\n",
       "    }\n",
       "</style>\n",
       "<table border=\"1\" class=\"dataframe\">\n",
       "  <thead>\n",
       "    <tr style=\"text-align: right;\">\n",
       "      <th></th>\n",
       "      <th>sample_name</th>\n",
       "      <th>age</th>\n",
       "      <th>age_in_years</th>\n",
       "      <th>age_units</th>\n",
       "      <th>agegroup</th>\n",
       "      <th>anonymized_name</th>\n",
       "      <th>body_habitat</th>\n",
       "      <th>body_product</th>\n",
       "      <th>body_site</th>\n",
       "      <th>collection_timestamp</th>\n",
       "      <th>...</th>\n",
       "      <th>k__Bacteria; p__Actinobacteria; c__Actinobacteria; o__Actinomycetales; f__Nocardioidaceae; g__; s__.16</th>\n",
       "      <th>k__Bacteria; p__Firmicutes; c__Erysipelotrichi; o__Erysipelotrichales; f__Erysipelotrichaceae; g__; s__.7</th>\n",
       "      <th>k__Bacteria; p__Bacteroidetes; c__Bacteroidia; o__Bacteroidales; f__[Odoribacteraceae]; g__Odoribacter; s__.1</th>\n",
       "      <th>k__Bacteria; p__Bacteroidetes; c__Bacteroidia; o__Bacteroidales; f__Prevotellaceae; g__Prevotella; s__intermedia</th>\n",
       "      <th>k__Bacteria; p__Firmicutes; c__Bacilli; o__Lactobacillales; f__Streptococcaceae; g__Streptococcus; s__.41</th>\n",
       "      <th>k__Bacteria; p__Cyanobacteria; c__Chloroplast; o__Streptophyta; f__; g__; s__.6</th>\n",
       "      <th>k__Bacteria; p__Bacteroidetes; c__Bacteroidia; o__Bacteroidales; f__Bacteroidaceae; g__Bacteroides; s__.54</th>\n",
       "      <th>k__Bacteria; p__Bacteroidetes; c__Bacteroidia; o__Bacteroidales; f__Prevotellaceae; g__Prevotella; s__.23</th>\n",
       "      <th>k__Bacteria; p__Bacteroidetes; c__Bacteroidia; o__Bacteroidales; f__Bacteroidaceae; g__Bacteroides; s__.55</th>\n",
       "      <th>k__Bacteria; p__Actinobacteria; c__Actinobacteria; o__Actinomycetales; f__Propionibacteriaceae; g__Propionibacterium; s__granulosum</th>\n",
       "    </tr>\n",
       "  </thead>\n",
       "  <tbody>\n",
       "    <tr>\n",
       "      <th>0</th>\n",
       "      <td>797.02.HA.Forehead</td>\n",
       "      <td>1</td>\n",
       "      <td>1</td>\n",
       "      <td>years</td>\n",
       "      <td>Adolescent</td>\n",
       "      <td>FS_01</td>\n",
       "      <td>UBERON:skin</td>\n",
       "      <td>UBERON:sebum</td>\n",
       "      <td>UBERON:face</td>\n",
       "      <td>4/6/2010</td>\n",
       "      <td>...</td>\n",
       "      <td>0</td>\n",
       "      <td>0</td>\n",
       "      <td>0</td>\n",
       "      <td>0</td>\n",
       "      <td>0</td>\n",
       "      <td>0</td>\n",
       "      <td>0</td>\n",
       "      <td>0</td>\n",
       "      <td>0</td>\n",
       "      <td>0</td>\n",
       "    </tr>\n",
       "  </tbody>\n",
       "</table>\n",
       "<p>1 rows × 1087 columns</p>\n",
       "</div>"
      ],
      "text/plain": [
       "          sample_name age age_in_years age_units    agegroup anonymized_name  \\\n",
       "0  797.02.HA.Forehead   1            1     years  Adolescent           FS_01   \n",
       "\n",
       "  body_habitat  body_product    body_site collection_timestamp  \\\n",
       "0  UBERON:skin  UBERON:sebum  UBERON:face             4/6/2010   \n",
       "\n",
       "                                                                  ...                                                                   \\\n",
       "0                                                                 ...                                                                    \n",
       "\n",
       "  k__Bacteria; p__Actinobacteria; c__Actinobacteria; o__Actinomycetales; f__Nocardioidaceae; g__; s__.16  \\\n",
       "0                                                  0                                                       \n",
       "\n",
       "  k__Bacteria; p__Firmicutes; c__Erysipelotrichi; o__Erysipelotrichales; f__Erysipelotrichaceae; g__; s__.7  \\\n",
       "0                                                  0                                                          \n",
       "\n",
       "   k__Bacteria; p__Bacteroidetes; c__Bacteroidia; o__Bacteroidales; f__[Odoribacteraceae]; g__Odoribacter; s__.1  \\\n",
       "0                                                  0                                                               \n",
       "\n",
       "  k__Bacteria; p__Bacteroidetes; c__Bacteroidia; o__Bacteroidales; f__Prevotellaceae; g__Prevotella; s__intermedia  \\\n",
       "0                                                  0                                                                 \n",
       "\n",
       "   k__Bacteria; p__Firmicutes; c__Bacilli; o__Lactobacillales; f__Streptococcaceae; g__Streptococcus; s__.41  \\\n",
       "0                                                  0                                                           \n",
       "\n",
       "  k__Bacteria; p__Cyanobacteria; c__Chloroplast; o__Streptophyta; f__; g__; s__.6  \\\n",
       "0                                                  0                                \n",
       "\n",
       "  k__Bacteria; p__Bacteroidetes; c__Bacteroidia; o__Bacteroidales; f__Bacteroidaceae; g__Bacteroides; s__.54  \\\n",
       "0                                                  0                                                           \n",
       "\n",
       "  k__Bacteria; p__Bacteroidetes; c__Bacteroidia; o__Bacteroidales; f__Prevotellaceae; g__Prevotella; s__.23  \\\n",
       "0                                                  0                                                          \n",
       "\n",
       "  k__Bacteria; p__Bacteroidetes; c__Bacteroidia; o__Bacteroidales; f__Bacteroidaceae; g__Bacteroides; s__.55  \\\n",
       "0                                                  0                                                           \n",
       "\n",
       "   k__Bacteria; p__Actinobacteria; c__Actinobacteria; o__Actinomycetales; f__Propionibacteriaceae; g__Propionibacterium; s__granulosum  \n",
       "0                                                  0                                                                                    \n",
       "\n",
       "[1 rows x 1087 columns]"
      ]
     },
     "execution_count": 2,
     "metadata": {},
     "output_type": "execute_result"
    }
   ],
   "source": [
    "mergedf = pd.read_csv('metadata_otu_merged_famID-to-str.csv', low_memory=False)\n",
    "# mergedf = pd.read_csv('metadata_otu_merged_famID-to-str_onlyFamwPet.csv', low_memory=False)\n",
    "# mergedf = pd.read_csv('metadata_otu_merged_non-rarefied.csv', low_memory=False)\n",
    "dog_fam = pd.read_csv('dogFamily_toMerge.csv')\n",
    "mergedf = mergedf.drop(\"Unnamed: 0\", axis=1)\n",
    "mergedf.head(1)"
   ]
  },
  {
   "cell_type": "code",
   "execution_count": 3,
   "metadata": {},
   "outputs": [
    {
     "name": "stdout",
     "output_type": "stream",
     "text": [
      "(1050, 1088)\n"
     ]
    }
   ],
   "source": [
    "#MERGE with DOG_FAM info\n",
    "mergedf = mergedf.merge(dog_fam, left_on=\"family\", right_on=\"family\", suffixes=(False,False), how=\"outer\")\n",
    "mergedf[\"have_dog\"].fillna(\"no\",inplace = True)\n",
    "print(mergedf.shape)"
   ]
  },
  {
   "cell_type": "markdown",
   "metadata": {},
   "source": [
    "# Filtering Train and Test Datasets"
   ]
  },
  {
   "cell_type": "code",
   "execution_count": 4,
   "metadata": {},
   "outputs": [],
   "source": [
    "#FILTER 1\n",
    "# only_humans_with_dogs = 1\n",
    "\n",
    "#FILTER 2\n",
    "# sample_type = \"skin\"\n",
    "#FILTER 3\n",
    "# not_sample_type = \"stool\"\n",
    "\n",
    "#FILTER 4\n",
    "human_role = \"Partner\"\n",
    "#FILTER 5\n",
    "# not_human_role = \"Offspring\"\n",
    "\n",
    "#FILTER 6\n",
    "# not_familyID = 63"
   ]
  },
  {
   "cell_type": "markdown",
   "metadata": {},
   "source": [
    "# SPLITTING TRAIN and TEST (test = dogs, train = humans)"
   ]
  },
  {
   "cell_type": "code",
   "execution_count": 6,
   "metadata": {},
   "outputs": [],
   "source": [
    "human_data = mergedf[mergedf.host_common_name ==\"human\"]\n",
    "\n",
    "# dog_data_test = mergedf[mergedf.host_common_name ==\"dog\"]\n",
    "# dog_data_test.head(1)\n",
    "\n",
    "#only looking at human families, predict which family each person belongs to\n",
    "human_data = human_data[human_data.family_relationship !=\"none\"]\n",
    "# human_data = mergedf_filter[mergedf_filter.host_common_name ==\"human\"]\n",
    "# human_data = mergedf_filter[mergedf_filter.role !=\"offspring\"]\n",
    "\n",
    "\n",
    "\n"
   ]
  },
  {
   "cell_type": "code",
   "execution_count": 7,
   "metadata": {
    "scrolled": true
   },
   "outputs": [
    {
     "name": "stdout",
     "output_type": "stream",
     "text": [
      "no filter here 1\n",
      "no filter here 2\n",
      "no filter here 4\n",
      "no filter here 5\n",
      "no filter here 6\n"
     ]
    }
   ],
   "source": [
    "try:\n",
    "    if only_humans_with_dogs == 1:\n",
    "            human_data = human_data[human_data.have_dog ==\"yes\"]\n",
    "    \n",
    "    elif only_humans_with_dogs ==0:\n",
    "            human_data = human_data[human_data.have_dog ==\"no\"]\n",
    "except:\n",
    "    print(\"no filter here 1\")\n",
    "\n",
    "try:    \n",
    "    if sample_type:\n",
    "        human_data = human_data[human_data.sample_type ==sample_type]\n",
    "#         dog_data_test = dog_data_test[dog_data_test.sample_type ==sample_type]\n",
    "except:\n",
    "    print(\"no filter here 2\")\n",
    "    \n",
    "try:    \n",
    "    if not_sample_type:\n",
    "        human_data = human_data[human_data.sample_type !=not_sample_type]\n",
    "#         dog_data_test = dog_data_test[dog_data_test.sample_type !=not_sample_type]\n",
    "except:\n",
    "    print(\"no filter here 3\")\n",
    "    \n",
    "try:    \n",
    "    if human_role:\n",
    "        human_data = human_data[human_data.role ==human_role]\n",
    "except:\n",
    "    print(\"no filter here 4\")\n",
    "    \n",
    "try:\n",
    "    if not_human_role:\n",
    "        human_data = human_data[human_data.role !=not_human_role]    \n",
    "except:\n",
    "    print(\"no filter here 5\")\n",
    "    \n",
    "try:    \n",
    "    if not_familyID:\n",
    "        human_data = human_data[human_data.role !=not_familyID]\n",
    "#         dog_data_test = dog_data_test[dog_data_test.role !=not_familyID]  \n",
    "except:\n",
    "    print(\"no filter here 6\")"
   ]
  },
  {
   "cell_type": "markdown",
   "metadata": {},
   "source": [
    "# Train/test split"
   ]
  },
  {
   "cell_type": "code",
   "execution_count": 8,
   "metadata": {},
   "outputs": [],
   "source": [
    "# X_train = human_data_train.iloc[:, -1035:-1]\n",
    "# y_train = human_data_train[\"familyID\"].values.reshape(-1, 1)\n",
    "\n",
    "# y_test = dog_data_test[\"familyID\"].values.reshape(-1, 1)\n",
    "# X_test = dog_data_test.iloc[:, -1035:-1]\n",
    "X = mergedf.iloc[:, -1035:-1]\n",
    "y = mergedf[\"familyID\"].values.reshape(-1, 1)\n",
    "\n",
    "X_train, X_test, y_train, y_test = train_test_split(X, y, random_state=42)"
   ]
  },
  {
   "cell_type": "markdown",
   "metadata": {},
   "source": [
    "# Hyperparameter Selection"
   ]
  },
  {
   "cell_type": "code",
   "execution_count": 9,
   "metadata": {},
   "outputs": [],
   "source": [
    "n_estimators = 1000"
   ]
  },
  {
   "cell_type": "markdown",
   "metadata": {},
   "source": [
    "# Non-Scaled Model Fitting"
   ]
  },
  {
   "cell_type": "code",
   "execution_count": 10,
   "metadata": {},
   "outputs": [
    {
     "name": "stdout",
     "output_type": "stream",
     "text": [
      "Test Score: 0.3155893536121673\n",
      "Train Score: 1.0\n"
     ]
    }
   ],
   "source": [
    "#from non-scaled data\n",
    "from sklearn.ensemble import RandomForestClassifier\n",
    "rf = RandomForestClassifier(n_estimators=n_estimators)\n",
    "rf = rf.fit(X_train, y_train.ravel())\n",
    "rf.score(X_test, y_test) #geni impurity coefficient\n",
    "\n",
    "print(f'Test Score: {rf.score(X_test, y_test)}')\n",
    "print(f'Train Score: {rf.score(X_train, y_train)}')"
   ]
  },
  {
   "cell_type": "markdown",
   "metadata": {},
   "source": [
    "# Scaled X Model Fitting"
   ]
  },
  {
   "cell_type": "code",
   "execution_count": 11,
   "metadata": {},
   "outputs": [],
   "source": [
    "# from sklearn.preprocessing import StandardScaler\n",
    "# X_scaler = StandardScaler().fit(X_train)\n",
    "\n",
    "# X_train_scaled = X_scaler.transform(X_train)\n",
    "# X_test_scaled = X_scaler.transform(X_test)"
   ]
  },
  {
   "cell_type": "code",
   "execution_count": 12,
   "metadata": {},
   "outputs": [],
   "source": [
    "# from scaled data\n",
    "# rf_scaled = RandomForestClassifier(n_estimators=n_estimators)\n",
    "# rf_scaled = rf_scaled.fit(X_train_scaled, y_train.ravel())\n",
    "# rf_scaled.score(X_test_scaled, y_test) #geni impurity coefficient\n",
    "\n",
    "# print(f'Test Score: {rf_scaled.score(X_test_scaled, y_test)}')\n",
    "# print(f'Train Score: {rf_scaled.score(X_train_scaled, y_train)}')"
   ]
  },
  {
   "cell_type": "code",
   "execution_count": 16,
   "metadata": {},
   "outputs": [
    {
     "name": "stdout",
     "output_type": "stream",
     "text": [
      "(263, 2)\n"
     ]
    },
    {
     "data": {
      "text/html": [
       "<div>\n",
       "<style scoped>\n",
       "    .dataframe tbody tr th:only-of-type {\n",
       "        vertical-align: middle;\n",
       "    }\n",
       "\n",
       "    .dataframe tbody tr th {\n",
       "        vertical-align: top;\n",
       "    }\n",
       "\n",
       "    .dataframe thead th {\n",
       "        text-align: right;\n",
       "    }\n",
       "</style>\n",
       "<table border=\"1\" class=\"dataframe\">\n",
       "  <thead>\n",
       "    <tr style=\"text-align: right;\">\n",
       "      <th></th>\n",
       "      <th>Prediction</th>\n",
       "      <th>Actual</th>\n",
       "    </tr>\n",
       "  </thead>\n",
       "  <tbody>\n",
       "    <tr>\n",
       "      <th>0</th>\n",
       "      <td>family#50</td>\n",
       "      <td>family#23</td>\n",
       "    </tr>\n",
       "    <tr>\n",
       "      <th>1</th>\n",
       "      <td>family#50</td>\n",
       "      <td>family#49</td>\n",
       "    </tr>\n",
       "    <tr>\n",
       "      <th>2</th>\n",
       "      <td>family#36</td>\n",
       "      <td>family#36</td>\n",
       "    </tr>\n",
       "    <tr>\n",
       "      <th>3</th>\n",
       "      <td>family#49</td>\n",
       "      <td>family#26</td>\n",
       "    </tr>\n",
       "    <tr>\n",
       "      <th>4</th>\n",
       "      <td>family#3</td>\n",
       "      <td>family#3</td>\n",
       "    </tr>\n",
       "  </tbody>\n",
       "</table>\n",
       "</div>"
      ],
      "text/plain": [
       "  Prediction     Actual\n",
       "0  family#50  family#23\n",
       "1  family#50  family#49\n",
       "2  family#36  family#36\n",
       "3  family#49  family#26\n",
       "4   family#3   family#3"
      ]
     },
     "execution_count": 16,
     "metadata": {},
     "output_type": "execute_result"
    }
   ],
   "source": [
    "y_pred = rf.predict(X_test)\n",
    "\n",
    "outputdf = pd.DataFrame({\n",
    "#                         \"SampleName\": y_test[\"sample_name\"],\n",
    "#                          \"Anonymized_Name\":y_test[\"anonymized_name\"],\n",
    "                         \"Prediction\": y_pred, \n",
    "                         \"Actual\": y_test.ravel()}).reset_index(drop=True)\n",
    "print(outputdf.shape)\n",
    "outputdf.head()"
   ]
  },
  {
   "cell_type": "code",
   "execution_count": null,
   "metadata": {},
   "outputs": [],
   "source": [
    "sumOutput = outputdf.groupby([\"Anonymized_Name\",\"Actual\",\"Prediction\"]).count()\n",
    "sumOutput.reset_index()\n",
    "sumOutput.head()"
   ]
  },
  {
   "cell_type": "code",
   "execution_count": null,
   "metadata": {
    "scrolled": true
   },
   "outputs": [],
   "source": [
    "# sumOutput.groupby([\"Anonymized_Name\"])['SampleName'].max()\n",
    "idx = sumOutput.groupby([\"Anonymized_Name\"])['SampleName'].transform(max) == sumOutput['SampleName']\n",
    "maxOutput = sumOutput[idx]\n",
    "maxOutput = maxOutput.reset_index()\n",
    "print(maxOutput.shape)\n",
    "# maxOutput"
   ]
  },
  {
   "cell_type": "code",
   "execution_count": null,
   "metadata": {
    "scrolled": true
   },
   "outputs": [],
   "source": [
    "maxOutput_noDup = maxOutput.drop_duplicates(subset=['Anonymized_Name'], keep=\"first\")\n",
    "print(maxOutput_noDup.shape)\n",
    "# maxOutput_noDup"
   ]
  },
  {
   "cell_type": "code",
   "execution_count": null,
   "metadata": {},
   "outputs": [],
   "source": [
    "maxOutput_C = maxOutput_noDup[maxOutput_noDup.Actual == maxOutput_noDup.Prediction]\n",
    "\n",
    "print(maxOutput_C.shape)\n",
    "# maxOutput_C"
   ]
  },
  {
   "cell_type": "code",
   "execution_count": null,
   "metadata": {
    "scrolled": true
   },
   "outputs": [],
   "source": [
    "maxOutput_I = maxOutput_noDup[maxOutput_noDup.Actual != maxOutput_noDup.Prediction]\n",
    "\n",
    "print(maxOutput_I.shape)\n",
    "# maxOutput_I"
   ]
  },
  {
   "cell_type": "code",
   "execution_count": null,
   "metadata": {},
   "outputs": [],
   "source": [
    "correct_total = maxOutput_C[\"Anonymized_Name\"].count()\n",
    "incorrect_total = maxOutput_I[\"Anonymized_Name\"].count()\n",
    "\n",
    "accuracy_maxed_pred = correct_total/(correct_total + incorrect_total)\n",
    "print(f' Accuracy of most-predicted (dog) family: {round(accuracy_maxed_pred,3)}')"
   ]
  },
  {
   "cell_type": "code",
   "execution_count": null,
   "metadata": {},
   "outputs": [],
   "source": []
  },
  {
   "cell_type": "code",
   "execution_count": null,
   "metadata": {},
   "outputs": [],
   "source": []
  }
 ],
 "metadata": {
  "kernelspec": {
   "display_name": "Python 3",
   "language": "python",
   "name": "python3"
  },
  "language_info": {
   "codemirror_mode": {
    "name": "ipython",
    "version": 3
   },
   "file_extension": ".py",
   "mimetype": "text/x-python",
   "name": "python",
   "nbconvert_exporter": "python",
   "pygments_lexer": "ipython3",
   "version": "3.7.3"
  }
 },
 "nbformat": 4,
 "nbformat_minor": 2
}
