{
 "cells": [
  {
   "cell_type": "code",
   "execution_count": 1,
   "metadata": {},
   "outputs": [],
   "source": [
    "\n",
    "import pandas as pd\n",
    "import numpy as np\n",
    "import os\n",
    "import matplotlib.pyplot as plt\n",
    "\n",
    "from sklearn import tree\n",
    "from sklearn.ensemble import RandomForestClassifier\n",
    "from sklearn.model_selection import validation_curve\n",
    "\n",
    "from sklearn.model_selection import train_test_split\n",
    "from sklearn.metrics import confusion_matrix"
   ]
  },
  {
   "cell_type": "code",
   "execution_count": 2,
   "metadata": {},
   "outputs": [
    {
     "data": {
      "text/html": [
       "<div>\n",
       "<style scoped>\n",
       "    .dataframe tbody tr th:only-of-type {\n",
       "        vertical-align: middle;\n",
       "    }\n",
       "\n",
       "    .dataframe tbody tr th {\n",
       "        vertical-align: top;\n",
       "    }\n",
       "\n",
       "    .dataframe thead th {\n",
       "        text-align: right;\n",
       "    }\n",
       "</style>\n",
       "<table border=\"1\" class=\"dataframe\">\n",
       "  <thead>\n",
       "    <tr style=\"text-align: right;\">\n",
       "      <th></th>\n",
       "      <th>sample_name</th>\n",
       "      <th>age</th>\n",
       "      <th>age_in_years</th>\n",
       "      <th>age_units</th>\n",
       "      <th>agegroup</th>\n",
       "      <th>anonymized_name</th>\n",
       "      <th>body_habitat</th>\n",
       "      <th>body_product</th>\n",
       "      <th>body_site</th>\n",
       "      <th>collection_timestamp</th>\n",
       "      <th>...</th>\n",
       "      <th>k__Bacteria; p__Bacteroidetes; c__Bacteroidia; o__Bacteroidales; f__Prevotellaceae; g__Prevotella; s__.141</th>\n",
       "      <th>k__Bacteria; p__Bacteroidetes; c__Bacteroidia; o__Bacteroidales; f__Bacteroidaceae; g__Bacteroides; s__.173</th>\n",
       "      <th>k__Bacteria; p__Actinobacteria; c__Actinobacteria; o__Actinomycetales; f__ACK-M1; g__; s__.5</th>\n",
       "      <th>k__Bacteria; p__Actinobacteria; c__Actinobacteria; o__Actinomycetales; f__Actinomycetaceae; g__; s__.10</th>\n",
       "      <th>k__Bacteria; p__Proteobacteria; c__Gammaproteobacteria; o__Pseudomonadales; f__Pseudomonadaceae; g__Pseudomonas; s__.64</th>\n",
       "      <th>k__Bacteria; p__Firmicutes; c__Clostridia; o__Clostridiales; f__Veillonellaceae; g__Dialister; s__.21</th>\n",
       "      <th>k__Bacteria; p__Bacteroidetes; c__Cytophagia; o__Cytophagales; f__Cytophagaceae; g__; s__.74</th>\n",
       "      <th>k__Bacteria; p__Actinobacteria; c__Actinobacteria; o__Actinomycetales; f__Propionibacteriaceae; g__Propionibacterium; s__granulosum.2</th>\n",
       "      <th>k__Bacteria; p__Actinobacteria; c__Acidimicrobiia; o__Acidimicrobiales; f__; g__; s__.106</th>\n",
       "      <th>k__Bacteria; p__Proteobacteria; c__Alphaproteobacteria; o__Caulobacterales; f__Caulobacteraceae; g__Phenylobacterium; s__.14</th>\n",
       "    </tr>\n",
       "  </thead>\n",
       "  <tbody>\n",
       "    <tr>\n",
       "      <th>0</th>\n",
       "      <td>797.02.HA.Forehead</td>\n",
       "      <td>1</td>\n",
       "      <td>1</td>\n",
       "      <td>years</td>\n",
       "      <td>Adolescent</td>\n",
       "      <td>FS_01</td>\n",
       "      <td>UBERON:skin</td>\n",
       "      <td>UBERON:sebum</td>\n",
       "      <td>UBERON:face</td>\n",
       "      <td>4/6/2010</td>\n",
       "      <td>...</td>\n",
       "      <td>0</td>\n",
       "      <td>0</td>\n",
       "      <td>0</td>\n",
       "      <td>0</td>\n",
       "      <td>0</td>\n",
       "      <td>0</td>\n",
       "      <td>0</td>\n",
       "      <td>0</td>\n",
       "      <td>0</td>\n",
       "      <td>0</td>\n",
       "    </tr>\n",
       "  </tbody>\n",
       "</table>\n",
       "<p>1 rows × 12541 columns</p>\n",
       "</div>"
      ],
      "text/plain": [
       "          sample_name age age_in_years age_units    agegroup anonymized_name  \\\n",
       "0  797.02.HA.Forehead   1            1     years  Adolescent           FS_01   \n",
       "\n",
       "  body_habitat  body_product    body_site collection_timestamp  \\\n",
       "0  UBERON:skin  UBERON:sebum  UBERON:face             4/6/2010   \n",
       "\n",
       "                                                               ...                                                               \\\n",
       "0                                                              ...                                                                \n",
       "\n",
       "  k__Bacteria; p__Bacteroidetes; c__Bacteroidia; o__Bacteroidales; f__Prevotellaceae; g__Prevotella; s__.141  \\\n",
       "0                                                  0                                                           \n",
       "\n",
       "  k__Bacteria; p__Bacteroidetes; c__Bacteroidia; o__Bacteroidales; f__Bacteroidaceae; g__Bacteroides; s__.173  \\\n",
       "0                                                  0                                                            \n",
       "\n",
       "   k__Bacteria; p__Actinobacteria; c__Actinobacteria; o__Actinomycetales; f__ACK-M1; g__; s__.5  \\\n",
       "0                                                  0                                              \n",
       "\n",
       "  k__Bacteria; p__Actinobacteria; c__Actinobacteria; o__Actinomycetales; f__Actinomycetaceae; g__; s__.10  \\\n",
       "0                                                  0                                                        \n",
       "\n",
       "   k__Bacteria; p__Proteobacteria; c__Gammaproteobacteria; o__Pseudomonadales; f__Pseudomonadaceae; g__Pseudomonas; s__.64  \\\n",
       "0                                                  0                                                                         \n",
       "\n",
       "  k__Bacteria; p__Firmicutes; c__Clostridia; o__Clostridiales; f__Veillonellaceae; g__Dialister; s__.21  \\\n",
       "0                                                  0                                                      \n",
       "\n",
       "  k__Bacteria; p__Bacteroidetes; c__Cytophagia; o__Cytophagales; f__Cytophagaceae; g__; s__.74  \\\n",
       "0                                                  0                                             \n",
       "\n",
       "  k__Bacteria; p__Actinobacteria; c__Actinobacteria; o__Actinomycetales; f__Propionibacteriaceae; g__Propionibacterium; s__granulosum.2  \\\n",
       "0                                                  0                                                                                      \n",
       "\n",
       "  k__Bacteria; p__Actinobacteria; c__Acidimicrobiia; o__Acidimicrobiales; f__; g__; s__.106  \\\n",
       "0                                                  0                                          \n",
       "\n",
       "   k__Bacteria; p__Proteobacteria; c__Alphaproteobacteria; o__Caulobacterales; f__Caulobacteraceae; g__Phenylobacterium; s__.14  \n",
       "0                                                  0                                                                             \n",
       "\n",
       "[1 rows x 12541 columns]"
      ]
     },
     "execution_count": 2,
     "metadata": {},
     "output_type": "execute_result"
    }
   ],
   "source": [
    "mergedf = pd.read_csv('metadata_otu_5000_merged.csv', low_memory=False)\n",
    "\n",
    "mergedf = mergedf.drop(\"Unnamed: 0\", axis=1)\n",
    "mergedf.head(1)"
   ]
  },
  {
   "cell_type": "code",
   "execution_count": 3,
   "metadata": {},
   "outputs": [],
   "source": [
    "# mergedf.body_site.value_counts()"
   ]
  },
  {
   "cell_type": "markdown",
   "metadata": {},
   "source": [
    "# Filtering Train and Test Datasets"
   ]
  },
  {
   "cell_type": "code",
   "execution_count": 36,
   "metadata": {},
   "outputs": [],
   "source": [
    "#FILTER 1\n",
    "have_dog = \"only_non_dog_owners\"\n",
    "\n",
    "#FILTER 2\n",
    "sample_type = \"skin\"\n",
    "# sample_type = \"all\"\n",
    "# #FILTER 3\n",
    "# # not_sample_type = \"stool\"\n",
    "\n",
    "# # #FILTER 4\n",
    "human_role = \"Partner\"\n",
    "# human_role = \"all\"\n",
    "# #FILTER 5\n",
    "# not_human_role = \"Offspring\"\n",
    "\n",
    "#FILTER 6\n",
    "# not_familyID = 63"
   ]
  },
  {
   "cell_type": "markdown",
   "metadata": {},
   "source": [
    "# SPLITTING TRAIN and TEST (test = dogs, train = humans)"
   ]
  },
  {
   "cell_type": "code",
   "execution_count": 37,
   "metadata": {
    "scrolled": true
   },
   "outputs": [
    {
     "data": {
      "text/html": [
       "<div>\n",
       "<style scoped>\n",
       "    .dataframe tbody tr th:only-of-type {\n",
       "        vertical-align: middle;\n",
       "    }\n",
       "\n",
       "    .dataframe tbody tr th {\n",
       "        vertical-align: top;\n",
       "    }\n",
       "\n",
       "    .dataframe thead th {\n",
       "        text-align: right;\n",
       "    }\n",
       "</style>\n",
       "<table border=\"1\" class=\"dataframe\">\n",
       "  <thead>\n",
       "    <tr style=\"text-align: right;\">\n",
       "      <th></th>\n",
       "      <th>sample_name</th>\n",
       "      <th>age</th>\n",
       "      <th>age_in_years</th>\n",
       "      <th>age_units</th>\n",
       "      <th>agegroup</th>\n",
       "      <th>anonymized_name</th>\n",
       "      <th>body_habitat</th>\n",
       "      <th>body_product</th>\n",
       "      <th>body_site</th>\n",
       "      <th>collection_timestamp</th>\n",
       "      <th>...</th>\n",
       "      <th>k__Bacteria; p__Bacteroidetes; c__Bacteroidia; o__Bacteroidales; f__Prevotellaceae; g__Prevotella; s__.141</th>\n",
       "      <th>k__Bacteria; p__Bacteroidetes; c__Bacteroidia; o__Bacteroidales; f__Bacteroidaceae; g__Bacteroides; s__.173</th>\n",
       "      <th>k__Bacteria; p__Actinobacteria; c__Actinobacteria; o__Actinomycetales; f__ACK-M1; g__; s__.5</th>\n",
       "      <th>k__Bacteria; p__Actinobacteria; c__Actinobacteria; o__Actinomycetales; f__Actinomycetaceae; g__; s__.10</th>\n",
       "      <th>k__Bacteria; p__Proteobacteria; c__Gammaproteobacteria; o__Pseudomonadales; f__Pseudomonadaceae; g__Pseudomonas; s__.64</th>\n",
       "      <th>k__Bacteria; p__Firmicutes; c__Clostridia; o__Clostridiales; f__Veillonellaceae; g__Dialister; s__.21</th>\n",
       "      <th>k__Bacteria; p__Bacteroidetes; c__Cytophagia; o__Cytophagales; f__Cytophagaceae; g__; s__.74</th>\n",
       "      <th>k__Bacteria; p__Actinobacteria; c__Actinobacteria; o__Actinomycetales; f__Propionibacteriaceae; g__Propionibacterium; s__granulosum.2</th>\n",
       "      <th>k__Bacteria; p__Actinobacteria; c__Acidimicrobiia; o__Acidimicrobiales; f__; g__; s__.106</th>\n",
       "      <th>k__Bacteria; p__Proteobacteria; c__Alphaproteobacteria; o__Caulobacterales; f__Caulobacteraceae; g__Phenylobacterium; s__.14</th>\n",
       "    </tr>\n",
       "  </thead>\n",
       "  <tbody>\n",
       "    <tr>\n",
       "      <th>16</th>\n",
       "      <td>797.03.CA.BackLeftPaw</td>\n",
       "      <td>Not recorded</td>\n",
       "      <td>Not recorded</td>\n",
       "      <td>years</td>\n",
       "      <td>Not recorded</td>\n",
       "      <td>FS_175</td>\n",
       "      <td>UBERON:skin</td>\n",
       "      <td>UBERON:sebum</td>\n",
       "      <td>UBERON:foot skin</td>\n",
       "      <td>2/10/2010</td>\n",
       "      <td>...</td>\n",
       "      <td>0</td>\n",
       "      <td>0</td>\n",
       "      <td>0</td>\n",
       "      <td>0</td>\n",
       "      <td>0</td>\n",
       "      <td>0</td>\n",
       "      <td>0</td>\n",
       "      <td>0</td>\n",
       "      <td>0</td>\n",
       "      <td>0</td>\n",
       "    </tr>\n",
       "  </tbody>\n",
       "</table>\n",
       "<p>1 rows × 12541 columns</p>\n",
       "</div>"
      ],
      "text/plain": [
       "              sample_name           age  age_in_years age_units      agegroup  \\\n",
       "16  797.03.CA.BackLeftPaw  Not recorded  Not recorded     years  Not recorded   \n",
       "\n",
       "   anonymized_name body_habitat  body_product         body_site  \\\n",
       "16          FS_175  UBERON:skin  UBERON:sebum  UBERON:foot skin   \n",
       "\n",
       "   collection_timestamp  \\\n",
       "16            2/10/2010   \n",
       "\n",
       "                                                                ...                                                               \\\n",
       "16                                                              ...                                                                \n",
       "\n",
       "   k__Bacteria; p__Bacteroidetes; c__Bacteroidia; o__Bacteroidales; f__Prevotellaceae; g__Prevotella; s__.141  \\\n",
       "16                                                  0                                                           \n",
       "\n",
       "   k__Bacteria; p__Bacteroidetes; c__Bacteroidia; o__Bacteroidales; f__Bacteroidaceae; g__Bacteroides; s__.173  \\\n",
       "16                                                  0                                                            \n",
       "\n",
       "    k__Bacteria; p__Actinobacteria; c__Actinobacteria; o__Actinomycetales; f__ACK-M1; g__; s__.5  \\\n",
       "16                                                  0                                              \n",
       "\n",
       "   k__Bacteria; p__Actinobacteria; c__Actinobacteria; o__Actinomycetales; f__Actinomycetaceae; g__; s__.10  \\\n",
       "16                                                  0                                                        \n",
       "\n",
       "    k__Bacteria; p__Proteobacteria; c__Gammaproteobacteria; o__Pseudomonadales; f__Pseudomonadaceae; g__Pseudomonas; s__.64  \\\n",
       "16                                                  0                                                                         \n",
       "\n",
       "   k__Bacteria; p__Firmicutes; c__Clostridia; o__Clostridiales; f__Veillonellaceae; g__Dialister; s__.21  \\\n",
       "16                                                  0                                                      \n",
       "\n",
       "   k__Bacteria; p__Bacteroidetes; c__Cytophagia; o__Cytophagales; f__Cytophagaceae; g__; s__.74  \\\n",
       "16                                                  0                                             \n",
       "\n",
       "   k__Bacteria; p__Actinobacteria; c__Actinobacteria; o__Actinomycetales; f__Propionibacteriaceae; g__Propionibacterium; s__granulosum.2  \\\n",
       "16                                                  0                                                                                      \n",
       "\n",
       "   k__Bacteria; p__Actinobacteria; c__Acidimicrobiia; o__Acidimicrobiales; f__; g__; s__.106  \\\n",
       "16                                                  0                                          \n",
       "\n",
       "    k__Bacteria; p__Proteobacteria; c__Alphaproteobacteria; o__Caulobacterales; f__Caulobacteraceae; g__Phenylobacterium; s__.14  \n",
       "16                                                  0                                                                             \n",
       "\n",
       "[1 rows x 12541 columns]"
      ]
     },
     "execution_count": 37,
     "metadata": {},
     "output_type": "execute_result"
    }
   ],
   "source": [
    "human_data_train = mergedf[mergedf.host_common_name ==\"human\"]\n",
    "\n",
    "dog_data_test = mergedf[mergedf.host_common_name ==\"dog\"]\n",
    "dog_data_test.head(1)"
   ]
  },
  {
   "cell_type": "code",
   "execution_count": 38,
   "metadata": {},
   "outputs": [],
   "source": [
    "# #testing dog forehead to human right palm hypothesis\n",
    "\n",
    "# human_data_train = human_data_train[human_data_train.body_site ==\"UBERON:skin of hand\"]\n",
    "# print(human_data_train.shape)\n",
    "# dog_data_test = dog_data_test[dog_data_test.body_site ==\"UBERON:face\"]\n",
    "# print(dog_data_test.shape)"
   ]
  },
  {
   "cell_type": "code",
   "execution_count": 39,
   "metadata": {
    "scrolled": true
   },
   "outputs": [
    {
     "name": "stdout",
     "output_type": "stream",
     "text": [
      "no filter here 1\n",
      "(734, 12541)\n",
      "(405, 12541)\n",
      "(287, 12541)\n"
     ]
    }
   ],
   "source": [
    "# Applying filters above\n",
    "try:\n",
    "    if have_dog == \"only_dog_owners\":\n",
    "        human_data_train = human_data_train[human_data_train.have_dog ==\"yes\"]\n",
    "    \n",
    "    elif have_dog == \"only_non_dog_owners\":\n",
    "        human_data_train = human_data_train[human_data_train.have_dog ==\"no\"]\n",
    "    elif have_dog == \"all\":\n",
    "        human_data_train = human_data_train\n",
    "    else:\n",
    "        human_data_train = human_data_train\n",
    "except:\n",
    "    print(\"no filter here 1\")\n",
    "print(human_data_train.shape)\n",
    "\n",
    "try:    \n",
    "    if sample_type!= \"all\":\n",
    "        human_data_train = human_data_train[human_data_train.sample_type ==sample_type]\n",
    "        dog_data_test = dog_data_test[dog_data_test.sample_type ==sample_type]\n",
    "    elif sample_type == \"all\":\n",
    "        human_data_train = human_data_train\n",
    "        dog_data_test = dog_data_test\n",
    "    else:\n",
    "        human_data_train = human_data_train\n",
    "        dog_data_test = dog_data_test\n",
    "except:\n",
    "    print(\"no filter here 2\")\n",
    "print(human_data_train.shape)  \n",
    "\n",
    "# try:    \n",
    "#     if not_sample_type:\n",
    "#         human_data_train = human_data_train[human_data_train.sample_type !=not_sample_type]\n",
    "#         dog_data_test = dog_data_test[dog_data_test.sample_type !=not_sample_type]\n",
    "#     elif sample_type == \"all\":\n",
    "#         human_data_train = human_data_train\n",
    "#         dog_data_test = dog_data_test\n",
    "# except:\n",
    "#     print(\"no filter here 3\")\n",
    "    \n",
    "try:    \n",
    "    if human_role != \"all\":\n",
    "        human_data_train = human_data_train[human_data_train.role ==human_role]\n",
    "    elif human_role == \"all\":\n",
    "        human_data_train = human_data_train\n",
    "    else:\n",
    "        human_data_train = human_data_train\n",
    "except:\n",
    "    print(\"no filter here 4\")\n",
    "print(human_data_train.shape)    \n",
    "# try:\n",
    "#     if not_human_role:\n",
    "#         human_data_train = human_data_train[human_data_train.role !=not_human_role]    \n",
    "# except:\n",
    "#     print(\"no filter here 5\")\n",
    "    \n",
    "# try:    \n",
    "#     if not_familyID:\n",
    "#         human_data_train = human_data_train[human_data_train.role !=not_familyID]\n",
    "#         dog_data_test = dog_data_test[dog_data_test.role !=not_familyID]  \n",
    "# except:\n",
    "#     print(\"no filter here 6\")"
   ]
  },
  {
   "cell_type": "markdown",
   "metadata": {},
   "source": [
    "# Train/test split"
   ]
  },
  {
   "cell_type": "code",
   "execution_count": 40,
   "metadata": {},
   "outputs": [],
   "source": [
    "X_train = human_data_train.iloc[:, -1035:-1]\n",
    "y_train = human_data_train[\"familyID\"].values.reshape(-1, 1)\n",
    "\n",
    "y_test = dog_data_test[\"familyID\"].values.reshape(-1, 1)\n",
    "X_test = dog_data_test.iloc[:, -1035:-1]"
   ]
  },
  {
   "cell_type": "markdown",
   "metadata": {},
   "source": [
    "# Hyperparameter Selection"
   ]
  },
  {
   "cell_type": "code",
   "execution_count": 41,
   "metadata": {},
   "outputs": [],
   "source": [
    "n_estimators = 1000\n",
    "\n",
    "from sklearn.ensemble import RandomForestClassifier\n",
    "rf = RandomForestClassifier(n_estimators=n_estimators)"
   ]
  },
  {
   "cell_type": "markdown",
   "metadata": {},
   "source": [
    "# Non-Scaled Model Fitting"
   ]
  },
  {
   "cell_type": "code",
   "execution_count": 42,
   "metadata": {},
   "outputs": [
    {
     "name": "stdout",
     "output_type": "stream",
     "text": [
      "Test Score: 0.20202020202020202\n",
      "Train Score: 1.0\n"
     ]
    }
   ],
   "source": [
    "#from non-scaled data\n",
    "rf = rf.fit(X_train, y_train.ravel())\n",
    "rf.score(X_test, y_test) #geni impurity coefficient\n",
    "\n",
    "print(f'Test Score: {rf.score(X_test, y_test)}')\n",
    "print(f'Train Score: {rf.score(X_train, y_train)}')"
   ]
  },
  {
   "cell_type": "markdown",
   "metadata": {},
   "source": [
    "# Scaled X Model Fitting"
   ]
  },
  {
   "cell_type": "code",
   "execution_count": 43,
   "metadata": {},
   "outputs": [],
   "source": [
    "# from sklearn.preprocessing import StandardScaler\n",
    "# X_scaler = StandardScaler().fit(X_train)\n",
    "\n",
    "# X_train_scaled = X_scaler.transform(X_train)\n",
    "# X_test_scaled = X_scaler.transform(X_test)"
   ]
  },
  {
   "cell_type": "code",
   "execution_count": 44,
   "metadata": {},
   "outputs": [],
   "source": [
    "# from scaled data\n",
    "# rf_scaled = RandomForestClassifier(n_estimators=n_estimators)\n",
    "# rf_scaled = rf_scaled.fit(X_train_scaled, y_train.ravel())\n",
    "# rf_scaled.score(X_test_scaled, y_test) #geni impurity coefficient\n",
    "\n",
    "# print(f'Test Score: {rf_scaled.score(X_test_scaled, y_test)}')\n",
    "# print(f'Train Score: {rf_scaled.score(X_train_scaled, y_train)}')"
   ]
  },
  {
   "cell_type": "markdown",
   "metadata": {},
   "source": [
    "# Evaluate most-guessed family for each dog (7 collection site/predictions per animal) ==> 1 prediction"
   ]
  },
  {
   "cell_type": "code",
   "execution_count": 45,
   "metadata": {},
   "outputs": [
    {
     "name": "stdout",
     "output_type": "stream",
     "text": [
      "(99, 4)\n"
     ]
    },
    {
     "data": {
      "text/html": [
       "<div>\n",
       "<style scoped>\n",
       "    .dataframe tbody tr th:only-of-type {\n",
       "        vertical-align: middle;\n",
       "    }\n",
       "\n",
       "    .dataframe tbody tr th {\n",
       "        vertical-align: top;\n",
       "    }\n",
       "\n",
       "    .dataframe thead th {\n",
       "        text-align: right;\n",
       "    }\n",
       "</style>\n",
       "<table border=\"1\" class=\"dataframe\">\n",
       "  <thead>\n",
       "    <tr style=\"text-align: right;\">\n",
       "      <th></th>\n",
       "      <th>SampleName</th>\n",
       "      <th>Anonymized_Name</th>\n",
       "      <th>Prediction</th>\n",
       "      <th>Actual</th>\n",
       "    </tr>\n",
       "  </thead>\n",
       "  <tbody>\n",
       "    <tr>\n",
       "      <th>0</th>\n",
       "      <td>797.03.CA.BackLeftPaw</td>\n",
       "      <td>FS_175</td>\n",
       "      <td>family#57</td>\n",
       "      <td>family#3</td>\n",
       "    </tr>\n",
       "    <tr>\n",
       "      <th>1</th>\n",
       "      <td>797.03.CA.Forehead</td>\n",
       "      <td>FS_175</td>\n",
       "      <td>family#5</td>\n",
       "      <td>family#3</td>\n",
       "    </tr>\n",
       "    <tr>\n",
       "      <th>2</th>\n",
       "      <td>797.03.CA.FrontRightPaw</td>\n",
       "      <td>FS_175</td>\n",
       "      <td>family#57</td>\n",
       "      <td>family#3</td>\n",
       "    </tr>\n",
       "    <tr>\n",
       "      <th>3</th>\n",
       "      <td>797.06.CA.BackLeftPaw</td>\n",
       "      <td>FS_176</td>\n",
       "      <td>family#30</td>\n",
       "      <td>family#6</td>\n",
       "    </tr>\n",
       "    <tr>\n",
       "      <th>4</th>\n",
       "      <td>797.06.CA.BackRightPaw</td>\n",
       "      <td>FS_176</td>\n",
       "      <td>family#30</td>\n",
       "      <td>family#6</td>\n",
       "    </tr>\n",
       "  </tbody>\n",
       "</table>\n",
       "</div>"
      ],
      "text/plain": [
       "                SampleName Anonymized_Name Prediction    Actual\n",
       "0    797.03.CA.BackLeftPaw          FS_175  family#57  family#3\n",
       "1       797.03.CA.Forehead          FS_175   family#5  family#3\n",
       "2  797.03.CA.FrontRightPaw          FS_175  family#57  family#3\n",
       "3    797.06.CA.BackLeftPaw          FS_176  family#30  family#6\n",
       "4   797.06.CA.BackRightPaw          FS_176  family#30  family#6"
      ]
     },
     "execution_count": 45,
     "metadata": {},
     "output_type": "execute_result"
    }
   ],
   "source": [
    "y_pred = rf.predict(X_test)\n",
    "\n",
    "outputdf = pd.DataFrame({\"SampleName\": dog_data_test[\"sample_name\"],\"Anonymized_Name\":dog_data_test[\"anonymized_name\"],\"Prediction\": y_pred, \"Actual\": y_test.ravel()}).reset_index(drop=True)\n",
    "print(outputdf.shape)\n",
    "outputdf.head()"
   ]
  },
  {
   "cell_type": "code",
   "execution_count": 46,
   "metadata": {},
   "outputs": [
    {
     "data": {
      "text/html": [
       "<div>\n",
       "<style scoped>\n",
       "    .dataframe tbody tr th:only-of-type {\n",
       "        vertical-align: middle;\n",
       "    }\n",
       "\n",
       "    .dataframe tbody tr th {\n",
       "        vertical-align: top;\n",
       "    }\n",
       "\n",
       "    .dataframe thead th {\n",
       "        text-align: right;\n",
       "    }\n",
       "</style>\n",
       "<table border=\"1\" class=\"dataframe\">\n",
       "  <thead>\n",
       "    <tr style=\"text-align: right;\">\n",
       "      <th></th>\n",
       "      <th></th>\n",
       "      <th></th>\n",
       "      <th>SampleName</th>\n",
       "    </tr>\n",
       "    <tr>\n",
       "      <th>Anonymized_Name</th>\n",
       "      <th>Actual</th>\n",
       "      <th>Prediction</th>\n",
       "      <th></th>\n",
       "    </tr>\n",
       "  </thead>\n",
       "  <tbody>\n",
       "    <tr>\n",
       "      <th rowspan=\"2\" valign=\"top\">FS_175</th>\n",
       "      <th rowspan=\"2\" valign=\"top\">family#3</th>\n",
       "      <th>family#5</th>\n",
       "      <td>1</td>\n",
       "    </tr>\n",
       "    <tr>\n",
       "      <th>family#57</th>\n",
       "      <td>2</td>\n",
       "    </tr>\n",
       "    <tr>\n",
       "      <th rowspan=\"2\" valign=\"top\">FS_176</th>\n",
       "      <th rowspan=\"2\" valign=\"top\">family#6</th>\n",
       "      <th>family#30</th>\n",
       "      <td>2</td>\n",
       "    </tr>\n",
       "    <tr>\n",
       "      <th>family#57</th>\n",
       "      <td>1</td>\n",
       "    </tr>\n",
       "    <tr>\n",
       "      <th>FS_177</th>\n",
       "      <th>family#6</th>\n",
       "      <th>family#57</th>\n",
       "      <td>3</td>\n",
       "    </tr>\n",
       "  </tbody>\n",
       "</table>\n",
       "</div>"
      ],
      "text/plain": [
       "                                     SampleName\n",
       "Anonymized_Name Actual   Prediction            \n",
       "FS_175          family#3 family#5             1\n",
       "                         family#57            2\n",
       "FS_176          family#6 family#30            2\n",
       "                         family#57            1\n",
       "FS_177          family#6 family#57            3"
      ]
     },
     "execution_count": 46,
     "metadata": {},
     "output_type": "execute_result"
    }
   ],
   "source": [
    "sumOutput = outputdf.groupby([\"Anonymized_Name\",\"Actual\",\"Prediction\"]).count()\n",
    "sumOutput.reset_index()\n",
    "sumOutput.head()"
   ]
  },
  {
   "cell_type": "code",
   "execution_count": 47,
   "metadata": {
    "scrolled": true
   },
   "outputs": [
    {
     "name": "stdout",
     "output_type": "stream",
     "text": [
      "(58, 4)\n"
     ]
    }
   ],
   "source": [
    "# sumOutput.groupby([\"Anonymized_Name\"])['SampleName'].max()\n",
    "idx = sumOutput.groupby([\"Anonymized_Name\"])['SampleName'].transform(max) == sumOutput['SampleName']\n",
    "maxOutput = sumOutput[idx]\n",
    "maxOutput = maxOutput.reset_index()\n",
    "print(maxOutput.shape)\n",
    "# maxOutput"
   ]
  },
  {
   "cell_type": "code",
   "execution_count": 48,
   "metadata": {
    "scrolled": true
   },
   "outputs": [
    {
     "name": "stdout",
     "output_type": "stream",
     "text": [
      "(34, 4)\n"
     ]
    }
   ],
   "source": [
    "maxOutput_noDup = maxOutput.drop_duplicates(subset=['Anonymized_Name'], keep=\"first\")\n",
    "print(maxOutput_noDup.shape)\n",
    "# maxOutput_noDup"
   ]
  },
  {
   "cell_type": "code",
   "execution_count": 49,
   "metadata": {},
   "outputs": [
    {
     "name": "stdout",
     "output_type": "stream",
     "text": [
      "(7, 4)\n"
     ]
    }
   ],
   "source": [
    "maxOutput_C = maxOutput_noDup[maxOutput_noDup.Actual == maxOutput_noDup.Prediction]\n",
    "\n",
    "print(maxOutput_C.shape)\n",
    "# maxOutput_C"
   ]
  },
  {
   "cell_type": "code",
   "execution_count": 50,
   "metadata": {
    "scrolled": true
   },
   "outputs": [
    {
     "name": "stdout",
     "output_type": "stream",
     "text": [
      "(27, 4)\n"
     ]
    }
   ],
   "source": [
    "maxOutput_I = maxOutput_noDup[maxOutput_noDup.Actual != maxOutput_noDup.Prediction]\n",
    "\n",
    "print(maxOutput_I.shape)\n",
    "# maxOutput_I"
   ]
  },
  {
   "cell_type": "code",
   "execution_count": 51,
   "metadata": {},
   "outputs": [
    {
     "name": "stdout",
     "output_type": "stream",
     "text": [
      " Accuracy of most-predicted (dog) family: 0.206\n"
     ]
    }
   ],
   "source": [
    "correct_total = maxOutput_C[\"Anonymized_Name\"].count()\n",
    "incorrect_total = maxOutput_I[\"Anonymized_Name\"].count()\n",
    "\n",
    "accuracy_maxed_pred = correct_total/(correct_total + incorrect_total)\n",
    "print(f' Accuracy of most-predicted (dog) family: {round(accuracy_maxed_pred,3)}')"
   ]
  },
  {
   "cell_type": "code",
   "execution_count": null,
   "metadata": {},
   "outputs": [],
   "source": []
  },
  {
   "cell_type": "code",
   "execution_count": null,
   "metadata": {},
   "outputs": [],
   "source": []
  }
 ],
 "metadata": {
  "kernelspec": {
   "display_name": "Python 3",
   "language": "python",
   "name": "python3"
  },
  "language_info": {
   "codemirror_mode": {
    "name": "ipython",
    "version": 3
   },
   "file_extension": ".py",
   "mimetype": "text/x-python",
   "name": "python",
   "nbconvert_exporter": "python",
   "pygments_lexer": "ipython3",
   "version": "3.7.3"
  }
 },
 "nbformat": 4,
 "nbformat_minor": 2
}
